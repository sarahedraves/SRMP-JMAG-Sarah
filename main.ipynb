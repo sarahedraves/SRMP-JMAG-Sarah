{
 "cells": [
  {
   "cell_type": "markdown",
   "id": "238f4afc-c0ff-4b8f-ae3c-ebadc7453cdc",
   "metadata": {},
   "source": [
    "# Complex Rotator Pipeline\n",
    "\n",
    "To run the pipeline, run the whole notebook and then execute the `main` function with a list of TICs. If the parameter `after_56_only` of the `main` function is `True`, the pipeline will ignore any sectors before 56. Sectors before 56 do not always (but sometimes do) have 200 second cadence. \n",
    "\n",
    "**Pipeline Outputs**:\n",
    "- `build/main.pdf`: a PDF of each sector with 3 different graphs, organized into complex and non-complex stars\n",
    "- `output/complex.csv` and `output/not_complex.csv`: lists of complex and non-complex stars.\n",
    "- `output/[TIC]/`: a directory containing scatter plots, river plots, and periodograms for each TIC."
   ]
  },
  {
   "cell_type": "code",
   "execution_count": 3,
   "id": "9e70a5c6-72fb-4f0c-a670-30d45f945646",
   "metadata": {
    "editable": true,
    "slideshow": {
     "slide_type": ""
    },
    "tags": []
   },
   "outputs": [
    {
     "name": "stdout",
     "output_type": "stream",
     "text": [
      "Requirement already satisfied: pylatex in /opt/anaconda3/envs/bdnyc/lib/python3.12/site-packages (1.4.2)\n",
      "Requirement already satisfied: ordered-set in /opt/anaconda3/envs/bdnyc/lib/python3.12/site-packages (from pylatex) (4.1.0)\n"
     ]
    }
   ],
   "source": [
    "!pip install pylatex\n",
    "\n",
    "import os\n",
    "import uuid\n",
    "import time\n",
    "import shutil\n",
    "import pylatex\n",
    "import pandas as pd\n",
    "import lightkurve as lk \n",
    "import matplotlib.pyplot as plt\n",
    "\n",
    "from datetime import datetime\n",
    "from tqdm.notebook import tqdm\n",
    "from multiprocessing import cpu_count, Pool\n",
    "from pylatex.section import Chapter, Subsection\n",
    "from pylatex import Document, Section, Figure, NoEscape, Command\n",
    "\n",
    "plt.ioff()\n",
    "%run pipeline.ipynb #executes this file which just imports a bunch of other functions\n",
    "\n",
    "import warnings\n",
    "warnings.filterwarnings(\"ignore\")\n",
    "\n",
    "OUTPUT_PATH = f\"{os.getcwd()}/output\""
   ]
  },
  {
   "cell_type": "code",
   "execution_count": 4,
   "id": "b24f8ac4-c12d-41ba-a0cc-04425c82877c",
   "metadata": {
    "editable": true,
    "slideshow": {
     "slide_type": ""
    },
    "tags": []
   },
   "outputs": [],
   "source": [
    "def get_sectors(tic):\n",
    "    \"\"\"Returns a list of available sectors given an TIC.\"\"\"\n",
    "    sectors = []\n",
    "    for result in lk.search_tesscut(str(tic)):\n",
    "        sectors.append(int(result.mission[0].split(\" \")[2]))\n",
    "        \n",
    "    return {\"tic\": tic, \"sectors\": sectors}\n",
    "\n",
    "def get_targets(tics):\n",
    "    \"\"\"Constructs a dictionary of TICs and available sectors from a list of TICs\"\"\"\n",
    "    targets = []\n",
    "\n",
    "    for tic in tics:\n",
    "        targets.append(get_sectors(tic))\n",
    "\n",
    "    return targets"
   ]
  },
  {
   "cell_type": "code",
   "execution_count": 5,
   "id": "20c8343f-7279-4753-b012-3736a1de6b90",
   "metadata": {
    "editable": true,
    "slideshow": {
     "slide_type": ""
    },
    "tags": []
   },
   "outputs": [],
   "source": [
    "def make_dataframes(l):\n",
    "    \"\"\"Convert the pipeline output into a CSV\"\"\"\n",
    "    df = pd.DataFrame()\n",
    "    \n",
    "    tics = []\n",
    "    sectors = []\n",
    "    for tic in list(l.keys()):\n",
    "        for sector in l[tic]:\n",
    "            tics.append(tic)\n",
    "            sectors.append(sector)\n",
    "    \n",
    "    df[\"TIC\"] = tics\n",
    "    df[\"Sectors\"] = sectors\n",
    "\n",
    "    return df"
   ]
  },
  {
   "cell_type": "code",
   "execution_count": 6,
   "id": "615e9024-3dc2-45f0-a2d8-0bb482d1a4e9",
   "metadata": {
    "editable": true,
    "slideshow": {
     "slide_type": ""
    },
    "tags": []
   },
   "outputs": [],
   "source": [
    "def make_chapter(title, data, doc):\n",
    "    \"\"\"Used by `make_pdf_report` to generate each chapter of the PDF.\"\"\"\n",
    "    with doc.create(Chapter(title)):\n",
    "        for tic in data.keys():\n",
    "            doc.append(NoEscape(r'\\newpage'))\n",
    "            with doc.create(Section(f\"{tic}\")):\n",
    "                for i, sector in enumerate(data[tic]):\n",
    "                    if i > 0:\n",
    "                        doc.append(NoEscape(r'\\newpage'))\n",
    "                    with doc.create(Subsection(f\"Sector {sector}\", label=f\"{tic}_{sector}\")):\n",
    "                        lc = load_lc(f\"{tic}\", sector)\n",
    "\n",
    "                        failed = []\n",
    "                        for plot_type in [\"plot\", \"river\", \"periodogram\"]:\n",
    "                            if not os.path.exists(f\"{OUTPUT_PATH}/{tic}/{sector}_{plot_type}.png\"):\n",
    "                                failed.append(plot_type)\n",
    "                                continue\n",
    "                            with doc.create(Figure(position=\"H\")) as plot:\n",
    "                                doc.append(NoEscape(r'\\begin{center}'))\n",
    "                                plot.add_image(f\"{OUTPUT_PATH}/{tic}/{sector}_{plot_type}.png\", width=NoEscape(r'0.5\\textwidth'))\n",
    "                                doc.append(NoEscape(r'\\end{center}'))\n",
    "\n",
    "                        if failed != []:\n",
    "                            doc.append(\"Failed to generate \" + \", \".join(failed) + f\" for {tic}.\")\n",
    "\n",
    "def make_pdf_report(complex, not_complex):\n",
    "    \"\"\"Generate a PDF with the pipeline results\"\"\"\n",
    "    try:\n",
    "        shutil.rmtree(\"./build\")\n",
    "    except:\n",
    "        pass\n",
    "    os.mkdir(\"./build\")\n",
    "\n",
    "    doc = Document(documentclass=\"report\", lmodern=False, geometry_options={\"margin\": \"0.5in\", \"top\": \"0.5in\", \"bottom\": \"0.5in\"})\n",
    "\n",
    "    doc.preamble.append(Command(\"title\", \"JMAG Complex Rotator Pipeline Results\"))\n",
    "    doc.preamble.append(Command(\"date\", f\"Generated on {datetime.now().strftime('%x %X')}\"))\n",
    "    doc.preamble.append(NoEscape(r'\\usepackage{float}'))\n",
    "    doc.preamble.append(NoEscape(r'\\usepackage{hyperref}'))\n",
    "    doc.preamble.append(NoEscape(r'\\hypersetup{colorlinks=true}'))\n",
    "\n",
    "\n",
    "    doc.append(NoEscape(r'\\maketitle'))\n",
    "    doc.append(NoEscape(r'\\tableofcontents'))\n",
    "    \n",
    "    make_chapter(\"Complex Rotators\", complex, doc)\n",
    "    make_chapter(\"Non-Complex Rotators\", not_complex, doc)\n",
    "    doc.generate_tex(\"./build/main\")\n",
    "    \n",
    "    os.popen(\"(cd build && pdflatex -interaction=nonstopmode main.tex && pdflatex -interaction=nonstopmode main.tex) > /dev/null\").read() #this does not work on my OS - pdflatex command missing"
   ]
  },
  {
   "cell_type": "code",
   "execution_count": 7,
   "id": "b22b3bb4-f7f3-48b6-8c47-d4ef58dc2995",
   "metadata": {},
   "outputs": [],
   "source": [
    "def main(tics, after_56_only = False):\n",
    "    start = time.time()\n",
    "    print(\"Generating list of sectors\")\n",
    "    targets = get_targets(tics)\n",
    "    \n",
    "    complex = {}\n",
    "    not_complex = {}\n",
    "\n",
    "    print(\"Identifying complex rotators\")\n",
    "    for target in targets:\n",
    "        for sector in target[\"sectors\"]: \n",
    "            print(f\"\\rProcessing {target['tic']} sector {sector}\", end=\"\")\n",
    "            if sector <= 56 and after_56_only:\n",
    "                continue\n",
    "            lc = load_lc(f\"{target['tic']}\", sector)\n",
    "            \n",
    "            # Determine complexity\n",
    "            if is_complex(lc):\n",
    "                if target[\"tic\"] not in complex.keys():\n",
    "                    complex[target[\"tic\"]] = []\n",
    "                complex[target[\"tic\"]].append(sector)\n",
    "            else:\n",
    "                if target[\"tic\"] not in not_complex.keys():\n",
    "                    not_complex[target[\"tic\"]] = []\n",
    "                not_complex[target[\"tic\"]].append(sector)\n",
    "            if not os.path.isdir(f\"{OUTPUT_PATH}/{target['tic']}\"):\n",
    "                os.mkdir(f\"{OUTPUT_PATH}/{target['tic']}\")\n",
    "    \n",
    "            try:\n",
    "                # Plot river and save\n",
    "                plt.figure(river_plot(lc).number) # this is necessary to make the output current and save the correct figure.\n",
    "                plt.savefig(f\"{OUTPUT_PATH}/{target['tic']}/{sector}_river.png\")\n",
    "                plt.close()\n",
    "        \n",
    "                # Plot lc and save\n",
    "                plt.figure(graph_lc(lc).number) \n",
    "                plt.savefig(f\"{OUTPUT_PATH}/{target['tic']}/{sector}_plot.png\")\n",
    "                plt.close()\n",
    "        \n",
    "                # Make periodogram and save\n",
    "                plt.figure(lombscargle(lc).number) \n",
    "                plt.savefig(f\"{OUTPUT_PATH}/{target['tic']}/{sector}_periodogram.png\")\n",
    "                plt.close()\n",
    "            except:\n",
    "                print(f\"Failed to generate one or more plots for {tic}:{sector}\")\n",
    "\n",
    "    print(\"\\nSaving results to csv\")\n",
    "    make_dataframes(complex).to_csv(f\"{OUTPUT_PATH}/complex.csv\")\n",
    "    make_dataframes(not_complex).to_csv(f\"{OUTPUT_PATH}/not_complex.csv\")\n",
    "\n",
    "    print(\"Saving results to pdf\")\n",
    "    make_pdf_report(complex, not_complex)\n",
    "\n",
    "    print(f\"Completed\")\n",
    "    print(f\"Processed {len(tics)} stars and {sum([len(target['sectors']) for target in targets])} sectors in {int(time.time()-start)} seconds.\")\n",
    "    print(f\"Identified {len(list(complex.keys()))} complex rotators\")"
   ]
  },
  {
   "cell_type": "code",
   "execution_count": 8,
   "id": "bb83e507-2768-45ff-92f5-d1bc678a3953",
   "metadata": {},
   "outputs": [
    {
     "name": "stdout",
     "output_type": "stream",
     "text": [
      "Generating list of sectors\n",
      "Identifying complex rotators\n",
      "Processing TIC 68131578 sector 91Downloading TIC 68131578:91\n",
      "Downloading URL https://mast.stsci.edu/tesscut/api/v0.1/astrocut?ra=242.631762340225&dec=-25.2671667192454&y=50&x=50&units=px&product=SPOC&sector=91 to ./data/tesscut_20250616112834.zip ... [Done]\n",
      "Removing 1668 bad data points (out of 9983) using the TESS provided QUALITY array\n",
      "Summing over 1 x 1 pixel lightcurves. Weighting=None\n",
      "\n",
      "Saving results to csv\n",
      "Saving results to pdf\n",
      "Completed\n",
      "Processed 1 stars and 1 sectors in 55 seconds.\n",
      "Identified 0 complex rotators\n"
     ]
    },
    {
     "name": "stderr",
     "output_type": "stream",
     "text": [
      "/bin/sh: pdflatex: command not found\n"
     ]
    }
   ],
   "source": [
    "main([\"TIC 68131578\"]) #highlighted IDs in spreadsheet"
   ]
  },
  {
   "cell_type": "code",
   "execution_count": null,
   "id": "57869b65-dac9-4062-94db-2f6e9445bdbc",
   "metadata": {},
   "outputs": [],
   "source": []
  }
 ],
 "metadata": {
  "kernelspec": {
   "display_name": "Python [conda env:bdnyc]",
   "language": "python",
   "name": "conda-env-bdnyc-py"
  },
  "language_info": {
   "codemirror_mode": {
    "name": "ipython",
    "version": 3
   },
   "file_extension": ".py",
   "mimetype": "text/x-python",
   "name": "python",
   "nbconvert_exporter": "python",
   "pygments_lexer": "ipython3",
   "version": "3.12.7"
  }
 },
 "nbformat": 4,
 "nbformat_minor": 5
}
