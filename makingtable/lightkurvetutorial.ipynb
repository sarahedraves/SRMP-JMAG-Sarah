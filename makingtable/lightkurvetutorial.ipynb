{
 "cells": [
  {
   "cell_type": "markdown",
   "id": "f74fdc7e-181c-4c00-8b44-4d75172164e5",
   "metadata": {},
   "source": [
    "following along with this tutorial: https://lightkurve.github.io/lightkurve/tutorials/1-getting-started/searching-for-data-products.html "
   ]
  },
  {
   "cell_type": "code",
   "execution_count": 2,
   "id": "5b096e47-3ff6-45f7-ab85-38e385d7cdcc",
   "metadata": {},
   "outputs": [],
   "source": [
    "import lightkurve as lk\n",
    "import matplotlib.pyplot as plt"
   ]
  },
  {
   "cell_type": "code",
   "execution_count": 3,
   "id": "20a68832-0c82-4b13-9636-38d9295a8f2f",
   "metadata": {},
   "outputs": [
    {
     "data": {
      "text/html": [
       "SearchResult containing 18 data products.\n",
       "\n",
       "<table id=\"table5328212272\">\n",
       "<thead><tr><th>#</th><th>mission</th><th>year</th><th>author</th><th>exptime</th><th>target_name</th><th>distance</th></tr></thead>\n",
       "<thead><tr><th></th><th></th><th></th><th></th><th>s</th><th></th><th>arcsec</th></tr></thead>\n",
       "<tr><td>0</td><td>Kepler Quarter 01</td><td>2009</td><td><a href='https://archive.stsci.edu/kepler/data_products.html'>Kepler</a></td><td>1800</td><td>kplr003733346</td><td>0.0</td></tr>\n",
       "<tr><td>1</td><td>Kepler Quarter 02</td><td>2009</td><td><a href='https://archive.stsci.edu/kepler/data_products.html'>Kepler</a></td><td>1800</td><td>kplr003733346</td><td>0.0</td></tr>\n",
       "<tr><td>2</td><td>Kepler Quarter 03</td><td>2009</td><td><a href='https://archive.stsci.edu/kepler/data_products.html'>Kepler</a></td><td>1800</td><td>kplr003733346</td><td>0.0</td></tr>\n",
       "<tr><td>3</td><td>Kepler Quarter 04</td><td>2010</td><td><a href='https://archive.stsci.edu/kepler/data_products.html'>Kepler</a></td><td>1800</td><td>kplr003733346</td><td>0.0</td></tr>\n",
       "<tr><td>4</td><td>Kepler Quarter 05</td><td>2010</td><td><a href='https://archive.stsci.edu/kepler/data_products.html'>Kepler</a></td><td>1800</td><td>kplr003733346</td><td>0.0</td></tr>\n",
       "<tr><td>5</td><td>Kepler Quarter 06</td><td>2010</td><td><a href='https://archive.stsci.edu/kepler/data_products.html'>Kepler</a></td><td>1800</td><td>kplr003733346</td><td>0.0</td></tr>\n",
       "<tr><td>6</td><td>Kepler Quarter 07</td><td>2010</td><td><a href='https://archive.stsci.edu/kepler/data_products.html'>Kepler</a></td><td>1800</td><td>kplr003733346</td><td>0.0</td></tr>\n",
       "<tr><td>7</td><td>Kepler Quarter 11</td><td>2011</td><td><a href='https://archive.stsci.edu/kepler/data_products.html'>Kepler</a></td><td>60</td><td>kplr003733346</td><td>0.0</td></tr>\n",
       "<tr><td>8</td><td>Kepler Quarter 10</td><td>2011</td><td><a href='https://archive.stsci.edu/kepler/data_products.html'>Kepler</a></td><td>1800</td><td>kplr003733346</td><td>0.0</td></tr>\n",
       "<tr><td>9</td><td>Kepler Quarter 09</td><td>2011</td><td><a href='https://archive.stsci.edu/kepler/data_products.html'>Kepler</a></td><td>1800</td><td>kplr003733346</td><td>0.0</td></tr>\n",
       "<tr><td>10</td><td>Kepler Quarter 08</td><td>2011</td><td><a href='https://archive.stsci.edu/kepler/data_products.html'>Kepler</a></td><td>1800</td><td>kplr003733346</td><td>0.0</td></tr>\n",
       "<tr><td>11</td><td>Kepler Quarter 11</td><td>2012</td><td><a href='https://archive.stsci.edu/kepler/data_products.html'>Kepler</a></td><td>1800</td><td>kplr003733346</td><td>0.0</td></tr>\n",
       "<tr><td>12</td><td>Kepler Quarter 12</td><td>2012</td><td><a href='https://archive.stsci.edu/kepler/data_products.html'>Kepler</a></td><td>1800</td><td>kplr003733346</td><td>0.0</td></tr>\n",
       "<tr><td>13</td><td>Kepler Quarter 13</td><td>2012</td><td><a href='https://archive.stsci.edu/kepler/data_products.html'>Kepler</a></td><td>1800</td><td>kplr003733346</td><td>0.0</td></tr>\n",
       "<tr><td>14</td><td>Kepler Quarter 14</td><td>2012</td><td><a href='https://archive.stsci.edu/kepler/data_products.html'>Kepler</a></td><td>1800</td><td>kplr003733346</td><td>0.0</td></tr>\n",
       "<tr><td>15</td><td>Kepler Quarter 15</td><td>2013</td><td><a href='https://archive.stsci.edu/kepler/data_products.html'>Kepler</a></td><td>1800</td><td>kplr003733346</td><td>0.0</td></tr>\n",
       "<tr><td>16</td><td>Kepler Quarter 16</td><td>2013</td><td><a href='https://archive.stsci.edu/kepler/data_products.html'>Kepler</a></td><td>1800</td><td>kplr003733346</td><td>0.0</td></tr>\n",
       "<tr><td>17</td><td>Kepler Quarter 17</td><td>2013</td><td><a href='https://archive.stsci.edu/kepler/data_products.html'>Kepler</a></td><td>1800</td><td>kplr003733346</td><td>0.0</td></tr>\n",
       "</table>"
      ],
      "text/plain": [
       "SearchResult containing 18 data products.\n",
       "\n",
       " #       mission      year author exptime  target_name  distance\n",
       "                                     s                   arcsec \n",
       "--- ----------------- ---- ------ ------- ------------- --------\n",
       "  0 Kepler Quarter 01 2009 Kepler    1800 kplr003733346      0.0\n",
       "  1 Kepler Quarter 02 2009 Kepler    1800 kplr003733346      0.0\n",
       "  2 Kepler Quarter 03 2009 Kepler    1800 kplr003733346      0.0\n",
       "  3 Kepler Quarter 04 2010 Kepler    1800 kplr003733346      0.0\n",
       "  4 Kepler Quarter 05 2010 Kepler    1800 kplr003733346      0.0\n",
       "  5 Kepler Quarter 06 2010 Kepler    1800 kplr003733346      0.0\n",
       "  6 Kepler Quarter 07 2010 Kepler    1800 kplr003733346      0.0\n",
       "  7 Kepler Quarter 11 2011 Kepler      60 kplr003733346      0.0\n",
       "  8 Kepler Quarter 10 2011 Kepler    1800 kplr003733346      0.0\n",
       "  9 Kepler Quarter 09 2011 Kepler    1800 kplr003733346      0.0\n",
       " 10 Kepler Quarter 08 2011 Kepler    1800 kplr003733346      0.0\n",
       " 11 Kepler Quarter 11 2012 Kepler    1800 kplr003733346      0.0\n",
       " 12 Kepler Quarter 12 2012 Kepler    1800 kplr003733346      0.0\n",
       " 13 Kepler Quarter 13 2012 Kepler    1800 kplr003733346      0.0\n",
       " 14 Kepler Quarter 14 2012 Kepler    1800 kplr003733346      0.0\n",
       " 15 Kepler Quarter 15 2013 Kepler    1800 kplr003733346      0.0\n",
       " 16 Kepler Quarter 16 2013 Kepler    1800 kplr003733346      0.0\n",
       " 17 Kepler Quarter 17 2013 Kepler    1800 kplr003733346      0.0"
      ]
     },
     "execution_count": 3,
     "metadata": {},
     "output_type": "execute_result"
    }
   ],
   "source": [
    "#searching for a Kepler target using its Kepler Input Catalog (KIC) ID number\n",
    "search_result = lk.search_lightcurve('KIC 3733346', author='Kepler')\n",
    "search_result"
   ]
  },
  {
   "cell_type": "code",
   "execution_count": 4,
   "id": "030174d3-4474-4f0e-b6eb-4d21348b8bfe",
   "metadata": {},
   "outputs": [
    {
     "data": {
      "text/html": [
       "SearchResult containing 1 data products.\n",
       "\n",
       "<table id=\"table5314113184\">\n",
       "<thead><tr><th>#</th><th>mission</th><th>year</th><th>author</th><th>exptime</th><th>target_name</th><th>distance</th></tr></thead>\n",
       "<thead><tr><th></th><th></th><th></th><th></th><th>s</th><th></th><th>arcsec</th></tr></thead>\n",
       "<tr><td>0</td><td>Kepler Quarter 01</td><td>2009</td><td><a href='https://archive.stsci.edu/kepler/data_products.html'>Kepler</a></td><td>1800</td><td>kplr003733346</td><td>0.0</td></tr>\n",
       "</table>"
      ],
      "text/plain": [
       "SearchResult containing 1 data products.\n",
       "\n",
       " #       mission      year author exptime  target_name  distance\n",
       "                                     s                   arcsec \n",
       "--- ----------------- ---- ------ ------- ------------- --------\n",
       "  0 Kepler Quarter 01 2009 Kepler    1800 kplr003733346      0.0"
      ]
     },
     "execution_count": 4,
     "metadata": {},
     "output_type": "execute_result"
    }
   ],
   "source": [
    "search_result[0]"
   ]
  },
  {
   "cell_type": "code",
   "execution_count": 5,
   "id": "b2890318-3ce6-479f-93f5-6b7af192a669",
   "metadata": {},
   "outputs": [
    {
     "name": "stdout",
     "output_type": "stream",
     "text": [
      "intentType\n",
      "obs_collection\n",
      "provenance_name\n",
      "instrument_name\n",
      "project\n",
      "filters\n",
      "wavelength_region\n",
      "target_name\n",
      "target_classification\n",
      "obs_id\n",
      "s_ra\n",
      "s_dec\n",
      "dataproduct_type\n",
      "proposal_pi\n",
      "calib_level\n",
      "t_min\n",
      "t_max\n",
      "t_exptime\n",
      "em_min\n",
      "em_max\n",
      "obs_title\n",
      "t_obs_release\n",
      "proposal_id\n",
      "proposal_type\n",
      "sequence_number\n",
      "s_region\n",
      "jpegURL\n",
      "dataURL\n",
      "dataRights\n",
      "mtFlag\n",
      "srcDen\n",
      "obsid\n",
      "objID\n",
      "exptime\n",
      "distance\n",
      "obsID\n",
      "obs_collection_products\n",
      "dataproduct_type_products\n",
      "description\n",
      "type\n",
      "dataURI\n",
      "productType\n",
      "productGroupDescription\n",
      "productSubGroupDescription\n",
      "productDocumentationURL\n",
      "project_products\n",
      "prvversion\n",
      "proposal_id_products\n",
      "productFilename\n",
      "size\n",
      "parent_obsid\n",
      "dataRights_products\n",
      "calib_level_products\n",
      "filters_products\n",
      "author\n",
      "mission\n",
      "#\n",
      "year\n",
      "sort_order\n"
     ]
    }
   ],
   "source": [
    "#shows all columns available instead of just default ones\n",
    "for column in search_result.table.columns:\n",
    "  print(column)"
   ]
  },
  {
   "cell_type": "markdown",
   "id": "197104b5-b5f6-42fc-86aa-300cbaa11353",
   "metadata": {},
   "source": [
    "field definitions: https://mast.stsci.edu/api/v0/_c_a_o_mfields.html"
   ]
  },
  {
   "cell_type": "code",
   "execution_count": 7,
   "id": "56f8784a-c6fb-4d09-9f66-468aef7e4327",
   "metadata": {},
   "outputs": [
    {
     "data": {
      "text/html": [
       "SearchResult containing 1 data products.\n",
       "\n",
       "<table id=\"table4974846432\">\n",
       "<thead><tr><th>#</th><th>mission</th><th>year</th><th>author</th><th>exptime</th><th>target_name</th><th>distance</th></tr></thead>\n",
       "<thead><tr><th></th><th></th><th></th><th></th><th>s</th><th></th><th>arcsec</th></tr></thead>\n",
       "<tr><td>0</td><td>Kepler Quarter 02</td><td>2009</td><td><a href='https://archive.stsci.edu/kepler/data_products.html'>Kepler</a></td><td>1800</td><td>kplr003733346</td><td>0.0</td></tr>\n",
       "</table>"
      ],
      "text/plain": [
       "SearchResult containing 1 data products.\n",
       "\n",
       " #       mission      year author exptime  target_name  distance\n",
       "                                     s                   arcsec \n",
       "--- ----------------- ---- ------ ------- ------------- --------\n",
       "  0 Kepler Quarter 02 2009 Kepler    1800 kplr003733346      0.0"
      ]
     },
     "execution_count": 7,
     "metadata": {},
     "output_type": "execute_result"
    }
   ],
   "source": [
    "# import numpy, which we will use to find the desired index in the table\n",
    "import numpy as np\n",
    "quarter2_index = np.where(search_result.table['mission'] == 'Kepler Quarter 02')[0]\n",
    "search_result[quarter2_index]"
   ]
  },
  {
   "cell_type": "markdown",
   "id": "03a84abe-d9b6-4b28-9af7-4102626de37e",
   "metadata": {},
   "source": [
    "can also narrow down the list of observations when you make the search using the following mission-specific keywords: * Kepler: quarter * K2: campaign * TESS: sector, as follows:"
   ]
  },
  {
   "cell_type": "code",
   "execution_count": 9,
   "id": "38479bfb-8b0b-46c6-bf56-d90854313d99",
   "metadata": {},
   "outputs": [
    {
     "data": {
      "text/html": [
       "SearchResult containing 1 data products.\n",
       "\n",
       "<table id=\"table4387632432\">\n",
       "<thead><tr><th>#</th><th>mission</th><th>year</th><th>author</th><th>exptime</th><th>target_name</th><th>distance</th></tr></thead>\n",
       "<thead><tr><th></th><th></th><th></th><th></th><th>s</th><th></th><th>arcsec</th></tr></thead>\n",
       "<tr><td>0</td><td>Kepler Quarter 02</td><td>2009</td><td><a href='https://archive.stsci.edu/kepler/data_products.html'>Kepler</a></td><td>1800</td><td>kplr003733346</td><td>0.0</td></tr>\n",
       "</table>"
      ],
      "text/plain": [
       "SearchResult containing 1 data products.\n",
       "\n",
       " #       mission      year author exptime  target_name  distance\n",
       "                                     s                   arcsec \n",
       "--- ----------------- ---- ------ ------- ------------- --------\n",
       "  0 Kepler Quarter 02 2009 Kepler    1800 kplr003733346      0.0"
      ]
     },
     "execution_count": 9,
     "metadata": {},
     "output_type": "execute_result"
    }
   ],
   "source": [
    "search_result_q2 = lk.search_lightcurve('KIC 3733346', author='Kepler', quarter=2)\n",
    "search_result_q2"
   ]
  },
  {
   "cell_type": "code",
   "execution_count": 10,
   "id": "247bbd85-6e0a-4e6e-8315-a5cf66c170a6",
   "metadata": {},
   "outputs": [
    {
     "data": {
      "text/html": [
       "<div><i>KeplerLightCurve length=4075 LABEL=&quot;KIC 3733346&quot; QUARTER=2 AUTHOR=Kepler FLUX_ORIGIN=pdcsap_flux</i>\n",
       "<table id=\"table5344360016\" class=\"table-striped table-bordered table-condensed\">\n",
       "<thead><tr><th>time</th><th>flux</th><th>flux_err</th><th>quality</th><th>timecorr</th><th>centroid_col</th><th>centroid_row</th><th>cadenceno</th><th>sap_flux</th><th>sap_flux_err</th><th>sap_bkg</th><th>sap_bkg_err</th><th>pdcsap_flux</th><th>pdcsap_flux_err</th><th>sap_quality</th><th>psf_centr1</th><th>psf_centr1_err</th><th>psf_centr2</th><th>psf_centr2_err</th><th>mom_centr1</th><th>mom_centr1_err</th><th>mom_centr2</th><th>mom_centr2_err</th><th>pos_corr1</th><th>pos_corr2</th></tr></thead>\n",
       "<thead><tr><th></th><th>electron / s</th><th>electron / s</th><th></th><th>d</th><th>pix</th><th>pix</th><th></th><th>electron / s</th><th>electron / s</th><th>electron / s</th><th>electron / s</th><th>electron / s</th><th>electron / s</th><th></th><th>pix</th><th>pix</th><th>pix</th><th>pix</th><th>pix</th><th>pix</th><th>pix</th><th>pix</th><th>pix</th><th>pix</th></tr></thead>\n",
       "<thead><tr><th>Time</th><th>float32</th><th>float32</th><th>int32</th><th>float32</th><th>float64</th><th>float64</th><th>int32</th><th>float32</th><th>float32</th><th>float32</th><th>float32</th><th>float32</th><th>float32</th><th>int32</th><th>float64</th><th>float32</th><th>float64</th><th>float32</th><th>float64</th><th>float32</th><th>float64</th><th>float32</th><th>float32</th><th>float32</th></tr></thead>\n",
       "<tr><td>169.7659418421681</td><td>9.2319516e+04</td><td>9.2697735e+00</td><td>0</td><td>3.263322e-03</td><td>781.81123</td><td>786.73051</td><td>2977</td><td>8.9092305e+04</td><td>8.8779488e+00</td><td>2.0773477e+03</td><td>7.0835429e-01</td><td>9.2319516e+04</td><td>9.2697735e+00</td><td>0</td><td>———</td><td>———</td><td>———</td><td>———</td><td>781.81123</td><td>1.2057812e-04</td><td>786.73051</td><td>1.4581889e-04</td><td>1.0092091e-01</td><td>-1.9298431e-01</td></tr>\n",
       "<tr><td>169.7863760557957</td><td>8.9214008e+04</td><td>9.1563263e+00</td><td>0</td><td>3.263836e-03</td><td>781.80745</td><td>786.73005</td><td>2978</td><td>8.6126133e+04</td><td>8.7672691e+00</td><td>2.0793108e+03</td><td>7.0831001e-01</td><td>8.9214008e+04</td><td>9.1563263e+00</td><td>0</td><td>———</td><td>———</td><td>———</td><td>———</td><td>781.80745</td><td>1.2411721e-04</td><td>786.73005</td><td>1.5003627e-04</td><td>1.0036582e-01</td><td>-1.9279599e-01</td></tr>\n",
       "<tr><td>169.80681006918894</td><td>8.5608195e+04</td><td>9.0206089e+00</td><td>0</td><td>3.264349e-03</td><td>781.80376</td><td>786.72918</td><td>2979</td><td>8.2681344e+04</td><td>8.6362791e+00</td><td>2.0772085e+03</td><td>7.0797533e-01</td><td>8.5608195e+04</td><td>9.0206089e+00</td><td>0</td><td>———</td><td>———</td><td>———</td><td>———</td><td>781.80376</td><td>1.2850568e-04</td><td>786.72918</td><td>1.5526263e-04</td><td>1.0042009e-01</td><td>-1.9289577e-01</td></tr>\n",
       "<tr><td>169.8272442823436</td><td>8.3063625e+04</td><td>8.9255180e+00</td><td>0</td><td>3.264862e-03</td><td>781.80081</td><td>786.72913</td><td>2980</td><td>8.0246992e+04</td><td>8.5434341e+00</td><td>2.0767546e+03</td><td>7.0811391e-01</td><td>8.3063625e+04</td><td>8.9255180e+00</td><td>0</td><td>———</td><td>———</td><td>———</td><td>———</td><td>781.80081</td><td>1.3182692e-04</td><td>786.72913</td><td>1.5920549e-04</td><td>1.0021163e-01</td><td>-1.9266903e-01</td></tr>\n",
       "<tr><td>169.84767829527118</td><td>8.4244992e+04</td><td>8.9700022e+00</td><td>0</td><td>3.265375e-03</td><td>781.80242</td><td>786.72905</td><td>2981</td><td>8.1373969e+04</td><td>8.5879698e+00</td><td>2.0805510e+03</td><td>7.0775980e-01</td><td>8.4244992e+04</td><td>8.9700022e+00</td><td>0</td><td>———</td><td>———</td><td>———</td><td>———</td><td>781.80242</td><td>1.3028238e-04</td><td>786.72905</td><td>1.5737538e-04</td><td>1.0010726e-01</td><td>-1.9241102e-01</td></tr>\n",
       "<tr><td>169.86811250773462</td><td>9.7360805e+04</td><td>9.4567146e+00</td><td>0</td><td>3.265888e-03</td><td>781.81441</td><td>786.73210</td><td>2982</td><td>9.3887734e+04</td><td>9.0560179e+00</td><td>2.0782170e+03</td><td>7.0836788e-01</td><td>9.7360805e+04</td><td>9.4567146e+00</td><td>0</td><td>———</td><td>———</td><td>———</td><td>———</td><td>781.81441</td><td>1.1529749e-04</td><td>786.73210</td><td>1.3958653e-04</td><td>9.8970458e-02</td><td>-1.9224431e-01</td></tr>\n",
       "<tr><td>169.88854651995644</td><td>1.2825345e+05</td><td>1.0503614e+01</td><td>0</td><td>3.266400e-03</td><td>781.83651</td><td>786.73500</td><td>2983</td><td>1.2337022e+05</td><td>1.0063412e+01</td><td>2.0774846e+03</td><td>7.0743954e-01</td><td>1.2825345e+05</td><td>1.0503614e+01</td><td>0</td><td>———</td><td>———</td><td>———</td><td>———</td><td>781.83651</td><td>9.1639682e-05</td><td>786.73500</td><td>1.1152634e-04</td><td>9.9608414e-02</td><td>-1.9224758e-01</td></tr>\n",
       "<tr><td>169.90898063195345</td><td>1.5187158e+05</td><td>1.1233888e+01</td><td>0</td><td>3.266912e-03</td><td>781.84701</td><td>786.73606</td><td>2984</td><td>1.4590969e+05</td><td>1.0766508e+01</td><td>2.0792261e+03</td><td>7.0833290e-01</td><td>1.5187158e+05</td><td>1.1233888e+01</td><td>0</td><td>———</td><td>———</td><td>———</td><td>———</td><td>781.84701</td><td>7.9801415e-05</td><td>786.73606</td><td>9.7487238e-05</td><td>9.8825477e-02</td><td>-1.9200189e-01</td></tr>\n",
       "<tr><td>169.9294148437184</td><td>1.6871948e+05</td><td>1.1725034e+01</td><td>0</td><td>3.267424e-03</td><td>781.85356</td><td>786.73615</td><td>2985</td><td>1.6198620e+05</td><td>1.1240104e+01</td><td>2.0780894e+03</td><td>7.0873052e-01</td><td>1.6871948e+05</td><td>1.1725034e+01</td><td>0</td><td>———</td><td>———</td><td>———</td><td>———</td><td>781.85356</td><td>7.3274212e-05</td><td>786.73615</td><td>8.9778732e-05</td><td>9.9280514e-02</td><td>-1.9207963e-01</td></tr>\n",
       "<tr><td>...</td><td>...</td><td>...</td><td>...</td><td>...</td><td>...</td><td>...</td><td>...</td><td>...</td><td>...</td><td>...</td><td>...</td><td>...</td><td>...</td><td>...</td><td>...</td><td>...</td><td>...</td><td>...</td><td>...</td><td>...</td><td>...</td><td>...</td><td>...</td><td>...</td></tr>\n",
       "<tr><td>258.28361569694243</td><td>9.2878820e+04</td><td>9.2731094e+00</td><td>0</td><td>2.597577e-03</td><td>781.66157</td><td>787.06740</td><td>7309</td><td>8.8527227e+04</td><td>8.8611145e+00</td><td>2.1467869e+03</td><td>7.0827138e-01</td><td>9.2878820e+04</td><td>9.2731094e+00</td><td>0</td><td>———</td><td>———</td><td>———</td><td>———</td><td>781.66157</td><td>1.2219569e-04</td><td>787.06740</td><td>1.4442031e-04</td><td>-5.1394299e-02</td><td>1.4658417e-01</td></tr>\n",
       "<tr><td>258.3040484127632</td><td>9.2034094e+04</td><td>9.2417078e+00</td><td>1100000000000000000</td><td>2.596793e-03</td><td>781.65987</td><td>787.06772</td><td>7310</td><td>8.7705906e+04</td><td>8.8319845e+00</td><td>2.1418911e+03</td><td>7.0921260e-01</td><td>9.2034094e+04</td><td>9.2417078e+00</td><td>1100000000000000000</td><td>———</td><td>———</td><td>———</td><td>———</td><td>781.65987</td><td>1.2317530e-04</td><td>787.06772</td><td>1.4557109e-04</td><td>-5.2788489e-02</td><td>1.4718631e-01</td></tr>\n",
       "<tr><td>258.32448132812715</td><td>9.1409266e+04</td><td>9.2205820e+00</td><td>0</td><td>2.596008e-03</td><td>781.66046</td><td>787.06774</td><td>7311</td><td>8.7112359e+04</td><td>8.8111296e+00</td><td>2.1419580e+03</td><td>7.0941931e-01</td><td>9.1409266e+04</td><td>9.2205820e+00</td><td>0</td><td>———</td><td>———</td><td>———</td><td>———</td><td>781.66046</td><td>1.2387938e-04</td><td>787.06774</td><td>1.4640002e-04</td><td>-5.1082097e-02</td><td>1.4737232e-01</td></tr>\n",
       "<tr><td>258.34491414348304</td><td>9.0934453e+04</td><td>9.2037315e+00</td><td>0</td><td>2.595223e-03</td><td>781.66006</td><td>787.06733</td><td>7312</td><td>8.6663805e+04</td><td>8.7947636e+00</td><td>2.1399746e+03</td><td>7.0873111e-01</td><td>9.0934453e+04</td><td>9.2037315e+00</td><td>0</td><td>———</td><td>———</td><td>———</td><td>———</td><td>781.66006</td><td>1.2442317e-04</td><td>787.06733</td><td>1.4701700e-04</td><td>-5.1297914e-02</td><td>1.4743482e-01</td></tr>\n",
       "<tr><td>258.3653468583798</td><td>9.0627711e+04</td><td>9.1926651e+00</td><td>0</td><td>2.594438e-03</td><td>781.65842</td><td>787.06748</td><td>7313</td><td>8.6410219e+04</td><td>8.7850523e+00</td><td>2.1412927e+03</td><td>7.0846963e-01</td><td>9.0627711e+04</td><td>9.1926651e+00</td><td>0</td><td>———</td><td>———</td><td>———</td><td>———</td><td>781.65842</td><td>1.2473276e-04</td><td>787.06748</td><td>1.4736662e-04</td><td>-5.3477854e-02</td><td>1.4825350e-01</td></tr>\n",
       "<tr><td>258.4062125879427</td><td>9.2799812e+04</td><td>9.2735319e+00</td><td>0</td><td>2.592868e-03</td><td>781.66311</td><td>787.06602</td><td>7315</td><td>8.8482406e+04</td><td>8.8615150e+00</td><td>2.1397761e+03</td><td>7.0821041e-01</td><td>9.2799812e+04</td><td>9.2735319e+00</td><td>0</td><td>———</td><td>———</td><td>———</td><td>———</td><td>781.66311</td><td>1.2222759e-04</td><td>787.06602</td><td>1.4448226e-04</td><td>-5.0823554e-02</td><td>1.4643176e-01</td></tr>\n",
       "<tr><td>258.4266453021337</td><td>9.2305727e+04</td><td>9.2546864e+00</td><td>0</td><td>2.592082e-03</td><td>781.66219</td><td>787.06568</td><td>7316</td><td>8.8041828e+04</td><td>8.8437214e+00</td><td>2.1407056e+03</td><td>7.0872313e-01</td><td>9.2305727e+04</td><td>9.2546864e+00</td><td>0</td><td>———</td><td>———</td><td>———</td><td>———</td><td>781.66219</td><td>1.2274201e-04</td><td>787.06568</td><td>1.4511198e-04</td><td>-5.2071981e-02</td><td>1.4703403e-01</td></tr>\n",
       "<tr><td>258.4470781163327</td><td>8.9541500e+04</td><td>9.1516228e+00</td><td>0</td><td>2.591296e-03</td><td>781.65845</td><td>787.06562</td><td>7317</td><td>8.5375305e+04</td><td>8.7458200e+00</td><td>2.1410559e+03</td><td>7.0890176e-01</td><td>8.9541500e+04</td><td>9.1516228e+00</td><td>0</td><td>———</td><td>———</td><td>———</td><td>———</td><td>781.65845</td><td>1.2598942e-04</td><td>787.06562</td><td>1.4883128e-04</td><td>-5.3206120e-02</td><td>1.4745203e-01</td></tr>\n",
       "<tr><td>258.46751103029237</td><td>8.5948555e+04</td><td>9.0121727e+00</td><td>0</td><td>2.590510e-03</td><td>781.65486</td><td>787.06465</td><td>7318</td><td>8.1906250e+04</td><td>8.6120892e+00</td><td>2.1406807e+03</td><td>7.0841718e-01</td><td>8.5948555e+04</td><td>9.0121727e+00</td><td>0</td><td>———</td><td>———</td><td>———</td><td>———</td><td>781.65486</td><td>1.3045572e-04</td><td>787.06465</td><td>1.5403067e-04</td><td>-5.2536737e-02</td><td>1.4800853e-01</td></tr>\n",
       "</table></div>"
      ],
      "text/plain": [
       "<KeplerLightCurve length=4075 LABEL=\"KIC 3733346\" QUARTER=2 AUTHOR=Kepler FLUX_ORIGIN=pdcsap_flux>\n",
       "       time             flux      ...   pos_corr1      pos_corr2   \n",
       "                    electron / s  ...      pix            pix      \n",
       "       Time           float32     ...    float32        float32    \n",
       "------------------ -------------- ... -------------- --------------\n",
       " 169.7659418421681  9.2319516e+04 ...  1.0092091e-01 -1.9298431e-01\n",
       " 169.7863760557957  8.9214008e+04 ...  1.0036582e-01 -1.9279599e-01\n",
       "169.80681006918894  8.5608195e+04 ...  1.0042009e-01 -1.9289577e-01\n",
       " 169.8272442823436  8.3063625e+04 ...  1.0021163e-01 -1.9266903e-01\n",
       "169.84767829527118  8.4244992e+04 ...  1.0010726e-01 -1.9241102e-01\n",
       "169.86811250773462  9.7360805e+04 ...  9.8970458e-02 -1.9224431e-01\n",
       "169.88854651995644  1.2825345e+05 ...  9.9608414e-02 -1.9224758e-01\n",
       "169.90898063195345  1.5187158e+05 ...  9.8825477e-02 -1.9200189e-01\n",
       " 169.9294148437184  1.6871948e+05 ...  9.9280514e-02 -1.9207963e-01\n",
       "               ...            ... ...            ...            ...\n",
       "258.28361569694243  9.2878820e+04 ... -5.1394299e-02  1.4658417e-01\n",
       " 258.3040484127632  9.2034094e+04 ... -5.2788489e-02  1.4718631e-01\n",
       "258.32448132812715  9.1409266e+04 ... -5.1082097e-02  1.4737232e-01\n",
       "258.34491414348304  9.0934453e+04 ... -5.1297914e-02  1.4743482e-01\n",
       " 258.3653468583798  9.0627711e+04 ... -5.3477854e-02  1.4825350e-01\n",
       " 258.4062125879427  9.2799812e+04 ... -5.0823554e-02  1.4643176e-01\n",
       " 258.4266453021337  9.2305727e+04 ... -5.2071981e-02  1.4703403e-01\n",
       " 258.4470781163327  8.9541500e+04 ... -5.3206120e-02  1.4745203e-01\n",
       "258.46751103029237  8.5948555e+04 ... -5.2536737e-02  1.4800853e-01"
      ]
     },
     "execution_count": 10,
     "metadata": {},
     "output_type": "execute_result"
    }
   ],
   "source": [
    "lc = search_result_q2.download()\n",
    "lc"
   ]
  },
  {
   "cell_type": "code",
   "execution_count": 11,
   "id": "46e1b542-10d4-43b4-a244-511c23adebee",
   "metadata": {},
   "outputs": [
    {
     "data": {
      "text/plain": [
       "<Axes: xlabel='Time - 2454833 [BKJD days]', ylabel='Flux [$\\\\mathrm{e^{-}\\\\,s^{-1}}$]'>"
      ]
     },
     "execution_count": 11,
     "metadata": {},
     "output_type": "execute_result"
    },
    {
     "data": {
      "image/png": "[encoded data removed]",
      "text/plain": [
       "<Figure size 848.5x400 with 1 Axes>"
      ]
     },
     "metadata": {},
     "output_type": "display_data"
    }
   ],
   "source": [
    "lc.plot() #plot method doesn't always sucessfully plot for unknown reasons"
   ]
  },
  {
   "cell_type": "code",
   "execution_count": 12,
   "id": "2f6e3191-e137-4908-ad15-ab1210c93639",
   "metadata": {},
   "outputs": [
    {
     "data": {
      "text/plain": [
       "LightCurveCollection of 5 objects:\n",
       "    0: <KeplerLightCurve LABEL=\"KIC 3733346\" QUARTER=1 AUTHOR=Kepler FLUX_ORIGIN=pdcsap_flux>\n",
       "    1: <KeplerLightCurve LABEL=\"KIC 3733346\" QUARTER=2 AUTHOR=Kepler FLUX_ORIGIN=pdcsap_flux>\n",
       "    2: <KeplerLightCurve LABEL=\"KIC 3733346\" QUARTER=3 AUTHOR=Kepler FLUX_ORIGIN=pdcsap_flux>\n",
       "    3: <KeplerLightCurve LABEL=\"KIC 3733346\" QUARTER=4 AUTHOR=Kepler FLUX_ORIGIN=pdcsap_flux>\n",
       "    4: <KeplerLightCurve LABEL=\"KIC 3733346\" QUARTER=5 AUTHOR=Kepler FLUX_ORIGIN=pdcsap_flux>"
      ]
     },
     "execution_count": 12,
     "metadata": {},
     "output_type": "execute_result"
    }
   ],
   "source": [
    "lc_collection = search_result[:5].download_all()\n",
    "lc_collection"
   ]
  },
  {
   "cell_type": "code",
   "execution_count": 13,
   "id": "270b1c13-323c-40e4-a63d-931f07fad76e",
   "metadata": {},
   "outputs": [],
   "source": [
    "# Create a larger figure for clarity\n",
    "fig, ax = plt.subplots(figsize=(20,5))\n",
    "# Plot the light curve collection\n",
    "lc_collection.plot(ax=ax); #still not working right"
   ]
  },
  {
   "cell_type": "code",
   "execution_count": 14,
   "id": "10e8bf05-4556-415e-a800-fc2ecf744ca1",
   "metadata": {},
   "outputs": [],
   "source": [
    "fig, ax = plt.subplots(figsize=(20,5))\n",
    "for lc in lc_collection:\n",
    "  lc.normalize().plot(ax=ax, label=f'Quarter {lc.quarter}'); #note normalization usage"
   ]
  },
  {
   "cell_type": "code",
   "execution_count": 15,
   "id": "b2110985-f45e-4111-85d9-41e73a964b30",
   "metadata": {},
   "outputs": [
    {
     "data": {
      "text/html": [
       "SearchResult containing 2 data products.\n",
       "\n",
       "<table id=\"table5345308560\">\n",
       "<thead><tr><th>#</th><th>mission</th><th>year</th><th>author</th><th>exptime</th><th>target_name</th><th>distance</th></tr></thead>\n",
       "<thead><tr><th></th><th></th><th></th><th></th><th>s</th><th></th><th>arcsec</th></tr></thead>\n",
       "<tr><td>0</td><td>K2 Campaign 06</td><td>2015</td><td><a href='https://archive.stsci.edu/k2/data_products.html'>K2</a></td><td>1800</td><td>ktwo212779596</td><td>0.0</td></tr>\n",
       "<tr><td>1</td><td>K2 Campaign 17</td><td>2018</td><td><a href='https://archive.stsci.edu/k2/data_products.html'>K2</a></td><td>1800</td><td>ktwo212779596</td><td>0.0</td></tr>\n",
       "</table>"
      ],
      "text/plain": [
       "SearchResult containing 2 data products.\n",
       "\n",
       " #     mission     year author exptime  target_name  distance\n",
       "                                  s                   arcsec \n",
       "--- -------------- ---- ------ ------- ------------- --------\n",
       "  0 K2 Campaign 06 2015     K2    1800 ktwo212779596      0.0\n",
       "  1 K2 Campaign 17 2018     K2    1800 ktwo212779596      0.0"
      ]
     },
     "execution_count": 15,
     "metadata": {},
     "output_type": "execute_result"
    }
   ],
   "source": [
    "search_result = lk.search_targetpixelfile('K2-199', exptime=1800) #considering a different date type now\n",
    "search_result"
   ]
  },
  {
   "cell_type": "code",
   "execution_count": 16,
   "id": "053b006a-e345-4bc9-a4cc-8550cd497f60",
   "metadata": {},
   "outputs": [
    {
     "name": "stderr",
     "output_type": "stream",
     "text": [
      "/opt/anaconda3/envs/bdnyc/lib/python3.12/site-packages/lightkurve/search.py:424: LightkurveWarning: Warning: 2 files available to download. Only the first file has been downloaded. Please use `download_all()` or specify additional criteria (e.g. quarter, campaign, or sector) to limit your search.\n",
      "  warnings.warn(\n"
     ]
    }
   ],
   "source": [
    "tpf = search_result.download()"
   ]
  },
  {
   "cell_type": "code",
   "execution_count": 17,
   "id": "446704c6-d579-4edd-9a84-288df61cf2d4",
   "metadata": {},
   "outputs": [],
   "source": [
    "tpf.plot();"
   ]
  },
  {
   "cell_type": "code",
   "execution_count": 18,
   "id": "0d5ba478-4df5-42bd-a0e7-18fa48093bfa",
   "metadata": {},
   "outputs": [],
   "source": [
    "lc = tpf.to_lightcurve()\n",
    "lc.plot();"
   ]
  },
  {
   "cell_type": "code",
   "execution_count": 19,
   "id": "8fe65a47-3756-441c-b093-5206cf7afb81",
   "metadata": {},
   "outputs": [
    {
     "data": {
      "text/plain": [
       "TargetPixelFileCollection of 2 objects:\n",
       "    0: KeplerTargetPixelFile Object (ID: 212779596)\n",
       "    1: KeplerTargetPixelFile Object (ID: 212779596)"
      ]
     },
     "execution_count": 19,
     "metadata": {},
     "output_type": "execute_result"
    }
   ],
   "source": [
    "tpf_collection = search_result.download_all()\n",
    "tpf_collection"
   ]
  },
  {
   "cell_type": "code",
   "execution_count": 20,
   "id": "ee2e195c-2c50-4dd3-9f9d-7c624c70e810",
   "metadata": {},
   "outputs": [],
   "source": [
    "tpf_collection.plot();"
   ]
  },
  {
   "cell_type": "code",
   "execution_count": 21,
   "id": "9720dd7c-f041-4906-a449-74f35c838a29",
   "metadata": {},
   "outputs": [
    {
     "data": {
      "text/html": [
       "SearchResult containing 23 data products.\n",
       "\n",
       "<table id=\"table5349346048\">\n",
       "<thead><tr><th>#</th><th>mission</th><th>year</th><th>author</th><th>exptime</th><th>target_name</th><th>distance</th></tr></thead>\n",
       "<thead><tr><th></th><th></th><th></th><th></th><th>s</th><th></th><th>arcsec</th></tr></thead>\n",
       "<tr><td>0</td><td>TESS Sector 04</td><td>2018</td><td><a href='https://mast.stsci.edu/tesscut/'>TESScut</a></td><td>1426</td><td>Pi Men</td><td>0.0</td></tr>\n",
       "<tr><td>1</td><td>TESS Sector 01</td><td>2018</td><td><a href='https://mast.stsci.edu/tesscut/'>TESScut</a></td><td>1426</td><td>Pi Men</td><td>0.0</td></tr>\n",
       "<tr><td>2</td><td>TESS Sector 13</td><td>2019</td><td><a href='https://mast.stsci.edu/tesscut/'>TESScut</a></td><td>1426</td><td>Pi Men</td><td>0.0</td></tr>\n",
       "<tr><td>3</td><td>TESS Sector 11</td><td>2019</td><td><a href='https://mast.stsci.edu/tesscut/'>TESScut</a></td><td>1426</td><td>Pi Men</td><td>0.0</td></tr>\n",
       "<tr><td>4</td><td>TESS Sector 12</td><td>2019</td><td><a href='https://mast.stsci.edu/tesscut/'>TESScut</a></td><td>1426</td><td>Pi Men</td><td>0.0</td></tr>\n",
       "<tr><td>5</td><td>TESS Sector 08</td><td>2019</td><td><a href='https://mast.stsci.edu/tesscut/'>TESScut</a></td><td>1426</td><td>Pi Men</td><td>0.0</td></tr>\n",
       "<tr><td>6</td><td>TESS Sector 27</td><td>2020</td><td><a href='https://mast.stsci.edu/tesscut/'>TESScut</a></td><td>475</td><td>Pi Men</td><td>0.0</td></tr>\n",
       "<tr><td>7</td><td>TESS Sector 31</td><td>2020</td><td><a href='https://mast.stsci.edu/tesscut/'>TESScut</a></td><td>475</td><td>Pi Men</td><td>0.0</td></tr>\n",
       "<tr><td>8</td><td>TESS Sector 28</td><td>2020</td><td><a href='https://mast.stsci.edu/tesscut/'>TESScut</a></td><td>475</td><td>Pi Men</td><td>0.0</td></tr>\n",
       "<tr><td>...</td><td>...</td><td>...</td><td>...</td><td>...</td><td>...</td><td>...</td></tr>\n",
       "<tr><td>13</td><td>TESS Sector 68</td><td>2023</td><td><a href='https://mast.stsci.edu/tesscut/'>TESScut</a></td><td>158</td><td>Pi Men</td><td>0.0</td></tr>\n",
       "<tr><td>14</td><td>TESS Sector 61</td><td>2023</td><td><a href='https://mast.stsci.edu/tesscut/'>TESScut</a></td><td>158</td><td>Pi Men</td><td>0.0</td></tr>\n",
       "<tr><td>15</td><td>TESS Sector 65</td><td>2023</td><td><a href='https://mast.stsci.edu/tesscut/'>TESScut</a></td><td>158</td><td>Pi Men</td><td>0.0</td></tr>\n",
       "<tr><td>16</td><td>TESS Sector 66</td><td>2023</td><td><a href='https://mast.stsci.edu/tesscut/'>TESScut</a></td><td>158</td><td>Pi Men</td><td>0.0</td></tr>\n",
       "<tr><td>17</td><td>TESS Sector 67</td><td>2023</td><td><a href='https://mast.stsci.edu/tesscut/'>TESScut</a></td><td>158</td><td>Pi Men</td><td>0.0</td></tr>\n",
       "<tr><td>18</td><td>TESS Sector 62</td><td>2023</td><td><a href='https://mast.stsci.edu/tesscut/'>TESScut</a></td><td>158</td><td>Pi Men</td><td>0.0</td></tr>\n",
       "<tr><td>19</td><td>TESS Sector 64</td><td>2023</td><td><a href='https://mast.stsci.edu/tesscut/'>TESScut</a></td><td>158</td><td>Pi Men</td><td>0.0</td></tr>\n",
       "<tr><td>20</td><td>TESS Sector 93</td><td>2025</td><td><a href='https://mast.stsci.edu/tesscut/'>TESScut</a></td><td>158</td><td>Pi Men</td><td>0.0</td></tr>\n",
       "<tr><td>21</td><td>TESS Sector 89</td><td>2025</td><td><a href='https://mast.stsci.edu/tesscut/'>TESScut</a></td><td>158</td><td>Pi Men</td><td>0.0</td></tr>\n",
       "<tr><td>22</td><td>TESS Sector 88</td><td>2025</td><td><a href='https://mast.stsci.edu/tesscut/'>TESScut</a></td><td>158</td><td>Pi Men</td><td>0.0</td></tr>\n",
       "</table>\n",
       "Length = 23 rows"
      ],
      "text/plain": [
       "SearchResult containing 23 data products.\n",
       "\n",
       " #     mission     year  author exptime target_name distance\n",
       "                                   s                 arcsec \n",
       "--- -------------- ---- ------- ------- ----------- --------\n",
       "  0 TESS Sector 04 2018 TESScut    1426      Pi Men      0.0\n",
       "  1 TESS Sector 01 2018 TESScut    1426      Pi Men      0.0\n",
       "  2 TESS Sector 13 2019 TESScut    1426      Pi Men      0.0\n",
       "  3 TESS Sector 11 2019 TESScut    1426      Pi Men      0.0\n",
       "  4 TESS Sector 12 2019 TESScut    1426      Pi Men      0.0\n",
       "  5 TESS Sector 08 2019 TESScut    1426      Pi Men      0.0\n",
       "  6 TESS Sector 27 2020 TESScut     475      Pi Men      0.0\n",
       "  7 TESS Sector 31 2020 TESScut     475      Pi Men      0.0\n",
       "  8 TESS Sector 28 2020 TESScut     475      Pi Men      0.0\n",
       "...            ...  ...     ...     ...         ...      ...\n",
       " 13 TESS Sector 68 2023 TESScut     158      Pi Men      0.0\n",
       " 14 TESS Sector 61 2023 TESScut     158      Pi Men      0.0\n",
       " 15 TESS Sector 65 2023 TESScut     158      Pi Men      0.0\n",
       " 16 TESS Sector 66 2023 TESScut     158      Pi Men      0.0\n",
       " 17 TESS Sector 67 2023 TESScut     158      Pi Men      0.0\n",
       " 18 TESS Sector 62 2023 TESScut     158      Pi Men      0.0\n",
       " 19 TESS Sector 64 2023 TESScut     158      Pi Men      0.0\n",
       " 20 TESS Sector 93 2025 TESScut     158      Pi Men      0.0\n",
       " 21 TESS Sector 89 2025 TESScut     158      Pi Men      0.0\n",
       " 22 TESS Sector 88 2025 TESScut     158      Pi Men      0.0\n",
       "Length = 23 rows"
      ]
     },
     "execution_count": 21,
     "metadata": {},
     "output_type": "execute_result"
    }
   ],
   "source": [
    "#now looking at cutouts of TESS FFIs\n",
    "search_result = lk.search_tesscut('Pi Men')\n",
    "search_result"
   ]
  },
  {
   "cell_type": "code",
   "execution_count": 22,
   "id": "55db0025-1ac8-47db-a1bf-f03ca59a0a1b",
   "metadata": {},
   "outputs": [],
   "source": [
    "tpf_cutout = search_result[0].download(cutout_size=10)\n",
    "tpf_cutout.plot();"
   ]
  },
  {
   "cell_type": "code",
   "execution_count": 23,
   "id": "f116e467-7fe8-415b-b4be-fd8405bfeda6",
   "metadata": {},
   "outputs": [
    {
     "name": "stdout",
     "output_type": "stream",
     "text": [
      "SearchResult containing 3 data products.\n",
      "\n",
      " #     mission     year author exptime  target_name  distance\n",
      "                                  s                   arcsec \n",
      "--- -------------- ---- ------ ------- ------------- --------\n",
      "  0 K2 Campaign 12 2016     K2    1800 ktwo246199087      0.0\n",
      "  1 K2 Campaign 12 2016     K2    1800 ktwo200164267     12.1\n",
      "  2 K2 Campaign 12 2016     K2    1800 ktwo246199173     95.5\n"
     ]
    }
   ],
   "source": [
    "#search cone with radius of 180 in arcsecs\n",
    "search_result = lk.search_targetpixelfile('Trappist-1', radius=180., campaign=12, exptime=1800)\n",
    "print(search_result)"
   ]
  },
  {
   "cell_type": "code",
   "execution_count": null,
   "id": "49d4804e-eee2-48cf-922d-b60b3578c14b",
   "metadata": {},
   "outputs": [],
   "source": []
  }
 ],
 "metadata": {
  "kernelspec": {
   "display_name": "Python [conda env:bdnyc]",
   "language": "python",
   "name": "conda-env-bdnyc-py"
  },
  "language_info": {
   "codemirror_mode": {
    "name": "ipython",
    "version": 3
   },
   "file_extension": ".py",
   "mimetype": "text/x-python",
   "name": "python",
   "nbconvert_exporter": "python",
   "pygments_lexer": "ipython3",
   "version": "3.12.7"
  }
 },
 "nbformat": 4,
 "nbformat_minor": 5
}
