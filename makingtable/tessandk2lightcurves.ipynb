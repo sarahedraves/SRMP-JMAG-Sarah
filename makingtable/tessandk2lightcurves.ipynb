{
 "cells": [
  {
   "cell_type": "code",
   "execution_count": 2,
   "id": "fff700a4-5012-4c30-a873-b72911644485",
   "metadata": {},
   "outputs": [],
   "source": [
    "import numpy as np\n",
    "import pandas as pd\n",
    "import lightkurve as lk \n",
    "import matplotlib.pyplot as plt\n",
    "import astropy.table as tb\n",
    "from astropy.io import ascii"
   ]
  },
  {
   "cell_type": "code",
   "execution_count": 3,
   "id": "df57d4c1-a081-46c8-bd75-e83c3bfe8374",
   "metadata": {},
   "outputs": [],
   "source": [
    "#result = lk.search_lightcurve(\"TIC 59129133\")"
   ]
  },
  {
   "cell_type": "code",
   "execution_count": 4,
   "id": "8f54fdb5-94db-4737-80d3-445b6c1a0981",
   "metadata": {},
   "outputs": [],
   "source": [
    "#result"
   ]
  },
  {
   "cell_type": "code",
   "execution_count": 5,
   "id": "e2c34b7d-d046-4731-b393-baba13e796c4",
   "metadata": {},
   "outputs": [],
   "source": [
    "#type(result)"
   ]
  },
  {
   "cell_type": "code",
   "execution_count": 6,
   "id": "d63a6c5a-2630-4fb6-96fe-f1fee1052e69",
   "metadata": {},
   "outputs": [],
   "source": [
    "#lc=result[5].download()"
   ]
  },
  {
   "cell_type": "code",
   "execution_count": 7,
   "id": "211d5fd5-6e95-4eb6-a4e1-a6fa4f45f9af",
   "metadata": {},
   "outputs": [],
   "source": [
    "#lc.plot()"
   ]
  },
  {
   "cell_type": "code",
   "execution_count": 8,
   "id": "40659cb2-cdac-40b1-af7e-53f40db156e7",
   "metadata": {},
   "outputs": [],
   "source": [
    "#lc"
   ]
  },
  {
   "cell_type": "code",
   "execution_count": 9,
   "id": "59f1c1bd-4f0e-4345-892c-b34c85608152",
   "metadata": {},
   "outputs": [],
   "source": [
    "#result.table #astropy table with all columns"
   ]
  },
  {
   "cell_type": "code",
   "execution_count": 10,
   "id": "02b2cf18-6f66-4328-aa8e-5c75baa68864",
   "metadata": {},
   "outputs": [],
   "source": [
    "# for column in result.table.columns:\n",
    "#     if isinstance(column, tb.MaskedColumn):\n",
    "#         print(column)"
   ]
  },
  {
   "cell_type": "code",
   "execution_count": 11,
   "id": "81ee2a4d-b455-4787-a6d1-92ac3884436a",
   "metadata": {},
   "outputs": [],
   "source": [
    "#result2 = lk.search_lightcurve(\"TIC 452345586\")"
   ]
  },
  {
   "cell_type": "code",
   "execution_count": 12,
   "id": "22c6d9ee-4297-4525-94eb-eedbfdf13f34",
   "metadata": {},
   "outputs": [],
   "source": [
    "#tb.vstack(tables=[result.table,result2.table])"
   ]
  },
  {
   "cell_type": "code",
   "execution_count": 13,
   "id": "6369f74e-a2ad-4af9-b150-07903f237d81",
   "metadata": {},
   "outputs": [],
   "source": [
    "#result.table.columns"
   ]
  },
  {
   "cell_type": "code",
   "execution_count": 14,
   "id": "82c978c7-cdd1-496f-9fa3-859b28a3ae23",
   "metadata": {},
   "outputs": [],
   "source": [
    "#type(result2.table.columns)"
   ]
  },
  {
   "cell_type": "code",
   "execution_count": 15,
   "id": "7f32d0a0-bcd5-4dde-ae66-6985da7377b1",
   "metadata": {},
   "outputs": [],
   "source": [
    "#result.table.columns==result2.table.columns"
   ]
  },
  {
   "cell_type": "code",
   "execution_count": 16,
   "id": "bd6d1445-9ce1-4091-b5fa-72feeb9cb01b",
   "metadata": {},
   "outputs": [],
   "source": [
    "#ids = np.array([\"TIC 59129133\", \"TIC 452345586\", \"EPIC 246676629\"])"
   ]
  },
  {
   "cell_type": "code",
   "execution_count": 17,
   "id": "60ff1270-ba03-454e-b2fd-38e2c9709fb3",
   "metadata": {},
   "outputs": [],
   "source": [
    "def get_curves(ids):\n",
    "    results=tb.Table()\n",
    "    for curid in ids:\n",
    "        curresult=lk.search_lightcurve(curid)\n",
    "        results=tb.vstack([results,curresult.table])\n",
    "    return results"
   ]
  },
  {
   "cell_type": "code",
   "execution_count": 18,
   "id": "da24b84a-cc5a-4bf7-9979-3c973e69728c",
   "metadata": {},
   "outputs": [],
   "source": [
    "#results=get_curves(ids)"
   ]
  },
  {
   "cell_type": "code",
   "execution_count": 19,
   "id": "07d527d0-5ae6-47d7-9c0a-c854799faa32",
   "metadata": {},
   "outputs": [],
   "source": [
    "#ascii.write(results, 'tessresults.dat', overwrite=True)"
   ]
  },
  {
   "cell_type": "code",
   "execution_count": 20,
   "id": "b58636d5-a775-4759-b4d7-482dd08630e1",
   "metadata": {},
   "outputs": [],
   "source": [
    "#results2=ascii.read('tessresults.dat')"
   ]
  },
  {
   "cell_type": "code",
   "execution_count": 21,
   "id": "eaf16a70-0f2a-420c-a096-28ed8f52b931",
   "metadata": {},
   "outputs": [],
   "source": [
    "#results2"
   ]
  },
  {
   "cell_type": "code",
   "execution_count": 22,
   "id": "22590bd9-ce68-4b91-9921-2edff7fee473",
   "metadata": {},
   "outputs": [],
   "source": [
    "# for column in results.columns:\n",
    "#     if isinstance(column, tb.MaskedColumn):\n",
    "#         print(column)"
   ]
  },
  {
   "cell_type": "code",
   "execution_count": 23,
   "id": "8f112016-afb2-46ec-b1c9-453b574dd867",
   "metadata": {},
   "outputs": [],
   "source": [
    "#tb.unique(results,silent=True)"
   ]
  },
  {
   "cell_type": "code",
   "execution_count": 24,
   "id": "53090eb6-172a-4718-86b7-f0a5f360a092",
   "metadata": {},
   "outputs": [],
   "source": [
    "id_table=pd.read_csv('Full_complex_sarah - Objects and References.csv')"
   ]
  },
  {
   "cell_type": "code",
   "execution_count": 25,
   "id": "6ea76903-77f4-4524-9925-fab80bfd6b20",
   "metadata": {},
   "outputs": [
    {
     "name": "stderr",
     "output_type": "stream",
     "text": [
      "/var/folders/zd/14hqhh8n6v122yj77t47nyv40000gn/T/ipykernel_3559/2702627318.py:1: RuntimeWarning: invalid value encountered in cast\n",
      "  tic_ids=id_table['TIC'].values.astype(int).astype(str)\n",
      "/var/folders/zd/14hqhh8n6v122yj77t47nyv40000gn/T/ipykernel_3559/2702627318.py:2: RuntimeWarning: invalid value encountered in cast\n",
      "  epic_ids=id_table['epic_id'].values.astype(int).astype(str)\n"
     ]
    }
   ],
   "source": [
    "tic_ids=id_table['TIC'].values.astype(int).astype(str)\n",
    "epic_ids=id_table['epic_id'].values.astype(int).astype(str)"
   ]
  },
  {
   "cell_type": "code",
   "execution_count": 26,
   "id": "91b3639b-a165-4903-bf54-900f41a6f0a2",
   "metadata": {},
   "outputs": [],
   "source": [
    "condition=(tic_ids=='0')\n",
    "tic_ids=tic_ids[~condition]\n",
    "condition2=(epic_ids=='0')\n",
    "epic_ids=epic_ids[~condition2]"
   ]
  },
  {
   "cell_type": "code",
   "execution_count": 27,
   "id": "2ddee1ce-dee0-49d7-a302-7b72cbe201b3",
   "metadata": {},
   "outputs": [],
   "source": [
    "tic_names=np.array([\"TIC \"+ID for ID in tic_ids])\n",
    "epic_names=np.array([\"EPIC \"+ID for ID in epic_ids])"
   ]
  },
  {
   "cell_type": "code",
   "execution_count": 28,
   "id": "9190c8b7-92b4-4d2e-b4a4-0480ec02c4f2",
   "metadata": {},
   "outputs": [],
   "source": [
    "#epic_names"
   ]
  },
  {
   "cell_type": "code",
   "execution_count": 29,
   "id": "3bd8a0a8-bd59-4fbe-a22d-863ba824b977",
   "metadata": {},
   "outputs": [],
   "source": [
    "ticresults=get_curves(tic_names)"
   ]
  },
  {
   "cell_type": "code",
   "execution_count": 30,
   "id": "99e3dc0c-345a-4262-b55d-2ef6ee7ae8fb",
   "metadata": {},
   "outputs": [],
   "source": [
    "epicresults=get_curves(epic_names)"
   ]
  },
  {
   "cell_type": "code",
   "execution_count": 31,
   "id": "20e97587-1afc-4b63-88c5-a5814a9396ca",
   "metadata": {},
   "outputs": [],
   "source": [
    "ascii.write(ticresults, 'ticresults.dat', overwrite=True)\n",
    "ascii.write(epicresults, 'epicresults.dat', overwrite=True)"
   ]
  },
  {
   "cell_type": "code",
   "execution_count": 66,
   "id": "53cb3fa3-b79d-4622-b6fe-ae6ed20edc56",
   "metadata": {},
   "outputs": [
    {
     "data": {
      "text/html": [
       "<div><i>Table length=2234</i>\n",
       "<table id=\"table5690004240\" class=\"table-striped table-bordered table-condensed\">\n",
       "<thead><tr><th>intentType</th><th>obs_collection</th><th>provenance_name</th><th>instrument_name</th><th>project</th><th>filters</th><th>wavelength_region</th><th>target_name</th><th>target_classification</th><th>obs_id</th><th>s_ra</th><th>s_dec</th><th>dataproduct_type</th><th>proposal_pi</th><th>calib_level</th><th>t_min</th><th>t_max</th><th>t_exptime</th><th>em_min</th><th>em_max</th><th>obs_title</th><th>t_obs_release</th><th>proposal_id</th><th>proposal_type</th><th>sequence_number</th><th>s_region</th><th>jpegURL</th><th>dataURL</th><th>dataRights</th><th>mtFlag</th><th>srcDen</th><th>obsid</th><th>objID</th><th>objID1</th><th>distance</th><th>exptime</th><th>obsID</th><th>obs_collection_products</th><th>dataproduct_type_products</th><th>description</th><th>type</th><th>dataURI</th><th>productType</th><th>productGroupDescription</th><th>productSubGroupDescription</th><th>productDocumentationURL</th><th>project_products</th><th>prvversion</th><th>proposal_id_products</th><th>productFilename</th><th>size</th><th>parent_obsid</th><th>dataRights_products</th><th>calib_level_products</th><th>filters_products</th><th>author</th><th>mission</th><th>#</th><th>year</th><th>sort_order</th></tr></thead>\n",
       "<thead><tr><th></th><th></th><th></th><th></th><th></th><th></th><th></th><th></th><th></th><th></th><th></th><th></th><th></th><th></th><th></th><th></th><th></th><th></th><th></th><th></th><th></th><th></th><th></th><th></th><th></th><th></th><th></th><th></th><th></th><th></th><th></th><th></th><th></th><th></th><th>arcsec</th><th>s</th><th></th><th></th><th></th><th></th><th></th><th></th><th></th><th></th><th></th><th></th><th></th><th></th><th></th><th></th><th></th><th></th><th></th><th></th><th></th><th></th><th></th><th></th><th></th><th></th></tr></thead>\n",
       "<thead><tr><th>str7</th><th>str4</th><th>str17</th><th>str17</th><th>str4</th><th>str6</th><th>str7</th><th>str14</th><th>str1</th><th>str78</th><th>float64</th><th>float64</th><th>str10</th><th>str19</th><th>int64</th><th>float64</th><th>float64</th><th>float64</th><th>float64</th><th>float64</th><th>str1</th><th>float64</th><th>str95</th><th>str1</th><th>int64</th><th>str65</th><th>str112</th><th>str129</th><th>str6</th><th>bool</th><th>float64</th><th>str9</th><th>str9</th><th>str9</th><th>float64</th><th>float64</th><th>str9</th><th>str4</th><th>str10</th><th>str38</th><th>str1</th><th>str129</th><th>str9</th><th>str28</th><th>str8</th><th>str1</th><th>str17</th><th>str21</th><th>str95</th><th>str83</th><th>int64</th><th>str9</th><th>str6</th><th>int64</th><th>str6</th><th>str17</th><th>object</th><th>object</th><th>int64</th><th>int64</th></tr></thead>\n",
       "<tr><td>science</td><td>K2</td><td>K2</td><td>Kepler</td><td>K2</td><td>KEPLER</td><td>Optical</td><td>ktwo246676629</td><td>--</td><td>ktwo246676629-c13_lc</td><td>74.86839</td><td>14.273303</td><td>timeseries</td><td>--</td><td>2</td><td>57820.06603603</td><td>57900.65616869</td><td>1800.0</td><td>420.0</td><td>910.0</td><td>--</td><td>57993.0</td><td>GO13009</td><td>--</td><td>13</td><td>CIRCLE ICRS 74.86839000 14.27330300 0.00111111</td><td>mast:K2/url/missions/k2/previews/c13/246600000/76000/ktwo246676629-c13_llc_bw_large.png</td><td>mast:K2/url/missions/k2/lightcurves/c13/246600000/76000/ktwo246676629-c13_llc.fits</td><td>PUBLIC</td><td>False</td><td>nan</td><td>720867</td><td>63884688</td><td>63884688</td><td>0.0</td><td>1800</td><td>720867</td><td>K2</td><td>timeseries</td><td>Lightcurve Long Cadence (KLC) - C13</td><td>S</td><td>mast:K2/url/missions/k2/lightcurves/c13/246600000/76000/ktwo246676629-c13_llc.fits</td><td>SCIENCE</td><td>Minimum Recommended Products</td><td>LLC</td><td>--</td><td>K2</td><td>24</td><td>GO13009</td><td>ktwo246676629-c13_llc.fits</td><td>423360</td><td>720867</td><td>PUBLIC</td><td>2</td><td>KEPLER</td><td>K2</td><td>K2 Campaign 13</td><td>None</td><td>2017</td><td>1</td></tr>\n",
       "<tr><td>science</td><td>HLSP</td><td>EVEREST</td><td>Kepler</td><td>K2</td><td>KEPLER</td><td>OPTICAL</td><td>ktwo246676629</td><td>--</td><td>hlsp_everest_k2_llc_246676629-c13_kepler_v2.0_lc</td><td>74.86839</td><td>14.273303</td><td>timeseries</td><td>Rodrigo Luger</td><td>4</td><td>57820.06603603009</td><td>57900.65616869213</td><td>1800.0</td><td>418.4</td><td>905.0</td><td>--</td><td>58723.61931702</td><td>N/A</td><td>--</td><td>13</td><td>CIRCLE 74.86839 14.273303 0.0011111111111111111</td><td>mast:HLSP/everest/v2/c13/246600000/76629/hlsp_everest_k2_llc_246676629-c13_kepler_v2.0_dvs-prev.png</td><td>mast:HLSP/everest/v2/c13/246600000/76629/hlsp_everest_k2_llc_246676629-c13_kepler_v2.0_lc.fits</td><td>PUBLIC</td><td>False</td><td>nan</td><td>30682174</td><td>596250409</td><td>596250409</td><td>0.0</td><td>1800</td><td>30682174</td><td>HLSP</td><td>timeseries</td><td>FITS</td><td>S</td><td>mast:HLSP/everest/v2/c13/246600000/76629/hlsp_everest_k2_llc_246676629-c13_kepler_v2.0_lc.fits</td><td>SCIENCE</td><td>Minimum Recommended Products</td><td>--</td><td>--</td><td>EVEREST</td><td>--</td><td>N/A</td><td>hlsp_everest_k2_llc_246676629-c13_kepler_v2.0_lc.fits</td><td>14353920</td><td>30682174</td><td>PUBLIC</td><td>4</td><td>KEPLER</td><td>EVEREST</td><td>K2 Campaign 13</td><td>None</td><td>2017</td><td>9</td></tr>\n",
       "<tr><td>science</td><td>HLSP</td><td>K2SFF</td><td>Kepler</td><td>K2</td><td>KEPLER</td><td>OPTICAL</td><td>ktwo246676629</td><td>--</td><td>hlsp_k2sff_k2_lightcurve_246676629-c13_kepler_v1_llc</td><td>74.86839</td><td>14.273303</td><td>timeseries</td><td>Andrew Vanderburg</td><td>4</td><td>57820.06603603009</td><td>57900.65616869213</td><td>1800.0</td><td>418.4</td><td>905.0</td><td>--</td><td>58689.620405</td><td>N/A</td><td>--</td><td>13</td><td>CIRCLE 74.86839 14.273303 0.0011111111111111111</td><td>mast:HLSP/k2sff/c13/246600000/76629/hlsp_k2sff_k2_lightcurve_246676629-c13_kepler_v1_llc.png</td><td>mast:HLSP/k2sff/c13/246600000/76629/hlsp_k2sff_k2_lightcurve_246676629-c13_kepler_v1_llc.fits</td><td>PUBLIC</td><td>False</td><td>nan</td><td>30329311</td><td>602688895</td><td>602688895</td><td>0.0</td><td>1800</td><td>30329311</td><td>HLSP</td><td>timeseries</td><td>FITS</td><td>S</td><td>mast:HLSP/k2sff/c13/246600000/76629/hlsp_k2sff_k2_lightcurve_246676629-c13_kepler_v1_llc.fits</td><td>SCIENCE</td><td>Minimum Recommended Products</td><td>--</td><td>--</td><td>K2SFF</td><td>19</td><td>N/A</td><td>hlsp_k2sff_k2_lightcurve_246676629-c13_kepler_v1_llc.fits</td><td>3360960</td><td>30329311</td><td>PUBLIC</td><td>4</td><td>KEPLER</td><td>K2SFF</td><td>K2 Campaign 13</td><td>None</td><td>2017</td><td>9</td></tr>\n",
       "<tr><td>science</td><td>TESS</td><td>SPOC</td><td>Photometer</td><td>TESS</td><td>TESS</td><td>Optical</td><td>59129133</td><td>--</td><td>tess2021258175143-s0043-0000000059129133-0214-s</td><td>74.8683970426215</td><td>14.2733048284887</td><td>timeseries</td><td>Ricker, George</td><td>3</td><td>59473.666812766205</td><td>59498.38014984954</td><td>120.0</td><td>600.0</td><td>1000.0</td><td>--</td><td>59526.0</td><td>G04168_G04131</td><td>--</td><td>43</td><td>CIRCLE 74.86839704 14.27330483 0.00138889</td><td>--</td><td>mast:TESS/product/tess2021258175143-s0043-0000000059129133-0214-s_lc.fits</td><td>PUBLIC</td><td>False</td><td>nan</td><td>65359654</td><td>123396529</td><td>123396529</td><td>0.0</td><td>120</td><td>65359654</td><td>TESS</td><td>timeseries</td><td>Light curves</td><td>S</td><td>mast:TESS/product/tess2021258175143-s0043-0000000059129133-0214-s_lc.fits</td><td>SCIENCE</td><td>Minimum Recommended Products</td><td>LC</td><td>--</td><td>SPOC</td><td>dc7bea856c</td><td>G04168_G04131</td><td>tess2021258175143-s0043-0000000059129133-0214-s_lc.fits</td><td>1811520</td><td>65359654</td><td>PUBLIC</td><td>3</td><td>TESS</td><td>SPOC</td><td>TESS Sector 43</td><td>None</td><td>2021</td><td>1</td></tr>\n",
       "<tr><td>science</td><td>TESS</td><td>SPOC</td><td>Photometer</td><td>TESS</td><td>TESS</td><td>Optical</td><td>59129133</td><td>--</td><td>tess2021284114741-s0044-0000000059129133-0215-s</td><td>74.8683970426215</td><td>14.2733048284887</td><td>timeseries</td><td>Ricker, George</td><td>3</td><td>59499.6955462037</td><td>59523.944377291664</td><td>120.0</td><td>600.0</td><td>1000.0</td><td>--</td><td>59563.0</td><td>G04168_G04131</td><td>--</td><td>44</td><td>CIRCLE 74.86839704 14.27330483 0.00138889</td><td>--</td><td>mast:TESS/product/tess2021284114741-s0044-0000000059129133-0215-s_lc.fits</td><td>PUBLIC</td><td>False</td><td>nan</td><td>68723715</td><td>132333287</td><td>132333287</td><td>0.0</td><td>120</td><td>68723715</td><td>TESS</td><td>timeseries</td><td>Light curves</td><td>S</td><td>mast:TESS/product/tess2021284114741-s0044-0000000059129133-0215-s_lc.fits</td><td>SCIENCE</td><td>Minimum Recommended Products</td><td>LC</td><td>--</td><td>SPOC</td><td>e33f2a7d16</td><td>G04168_G04131</td><td>tess2021284114741-s0044-0000000059129133-0215-s_lc.fits</td><td>1776960</td><td>68723715</td><td>PUBLIC</td><td>3</td><td>TESS</td><td>SPOC</td><td>TESS Sector 44</td><td>None</td><td>2021</td><td>1</td></tr>\n",
       "<tr><td>science</td><td>HLSP</td><td>TESS-SPOC</td><td>Photometer</td><td>TESS</td><td>TESS</td><td>Optical</td><td>59129133</td><td>--</td><td>hlsp_tess-spoc_tess_phot_0000000059129133-s0043_tess_v1_tp</td><td>74.8683970426215</td><td>14.2733048284887</td><td>timeseries</td><td>Douglas A. Caldwell</td><td>4</td><td>59473.666812766205</td><td>59498.39126181713</td><td>600.0</td><td>600.0</td><td>1000.0</td><td>--</td><td>59925.68237254</td><td>N/A</td><td>--</td><td>43</td><td>CIRCLE 74.8683970426215 14.2733048284887 0.0011111111111111111</td><td>--</td><td>mast:HLSP/tess-spoc/s0043/target/0000/0000/5912/9133/hlsp_tess-spoc_tess_phot_0000000059129133-s0043_tess_v1_lc.fits</td><td>PUBLIC</td><td>False</td><td>nan</td><td>104045457</td><td>193759589</td><td>193759589</td><td>0.0</td><td>600</td><td>104045457</td><td>HLSP</td><td>timeseries</td><td>FITS</td><td>D</td><td>mast:HLSP/tess-spoc/s0043/target/0000/0000/5912/9133/hlsp_tess-spoc_tess_phot_0000000059129133-s0043_tess_v1_lc.fits</td><td>SCIENCE</td><td>Minimum Recommended Products</td><td>--</td><td>--</td><td>TESS-SPOC</td><td>62</td><td>N/A</td><td>hlsp_tess-spoc_tess_phot_0000000059129133-s0043_tess_v1_lc.fits</td><td>385920</td><td>104045457</td><td>PUBLIC</td><td>4</td><td>TESS</td><td>TESS-SPOC</td><td>TESS Sector 43</td><td>None</td><td>2021</td><td>2</td></tr>\n",
       "<tr><td>science</td><td>HLSP</td><td>TESS-SPOC</td><td>Photometer</td><td>TESS</td><td>TESS</td><td>Optical</td><td>59129133</td><td>--</td><td>hlsp_tess-spoc_tess_phot_0000000059129133-s0044_tess_v1_tp</td><td>74.8683970426215</td><td>14.2733048284887</td><td>timeseries</td><td>Douglas A. Caldwell</td><td>4</td><td>59499.68999017361</td><td>59523.94159938658</td><td>600.0</td><td>600.0</td><td>1000.0</td><td>--</td><td>59933.43174768</td><td>N/A</td><td>--</td><td>44</td><td>CIRCLE 74.8683970426215 14.2733048284887 0.0011111111111111111</td><td>--</td><td>mast:HLSP/tess-spoc/s0044/target/0000/0000/5912/9133/hlsp_tess-spoc_tess_phot_0000000059129133-s0044_tess_v1_lc.fits</td><td>PUBLIC</td><td>False</td><td>nan</td><td>106437234</td><td>197668884</td><td>197668884</td><td>0.0</td><td>600</td><td>106437234</td><td>HLSP</td><td>timeseries</td><td>FITS</td><td>D</td><td>mast:HLSP/tess-spoc/s0044/target/0000/0000/5912/9133/hlsp_tess-spoc_tess_phot_0000000059129133-s0044_tess_v1_lc.fits</td><td>SCIENCE</td><td>Minimum Recommended Products</td><td>--</td><td>--</td><td>TESS-SPOC</td><td>64</td><td>N/A</td><td>hlsp_tess-spoc_tess_phot_0000000059129133-s0044_tess_v1_lc.fits</td><td>380160</td><td>106437234</td><td>PUBLIC</td><td>4</td><td>TESS</td><td>TESS-SPOC</td><td>TESS Sector 44</td><td>None</td><td>2021</td><td>2</td></tr>\n",
       "<tr><td>science</td><td>HLSP</td><td>QLP</td><td>Photometer</td><td>TESS</td><td>TESS</td><td>Optical</td><td>59129133</td><td>--</td><td>hlsp_qlp_tess_ffi_s0005-0000000059129133_tess_v01_llc</td><td>74.8683970426</td><td>14.2733048285</td><td>timeseries</td><td>Chelsea X. Huang</td><td>4</td><td>58437.49541694</td><td>58463.76662633</td><td>1800.0</td><td>600.0</td><td>1000.0</td><td>--</td><td>59255.52156242</td><td>N/A</td><td>--</td><td>5</td><td>CIRCLE ICRS 74.86839704 14.27330483 0.00111111</td><td>--</td><td>mast:HLSP/qlp/s0005/0000/0000/5912/9133/hlsp_qlp_tess_ffi_s0005-0000000059129133_tess_v01_llc.fits</td><td>PUBLIC</td><td>False</td><td>nan</td><td>57781650</td><td>101723252</td><td>101723252</td><td>0.0</td><td>1800</td><td>57781650</td><td>HLSP</td><td>timeseries</td><td>FITS</td><td>C</td><td>mast:HLSP/qlp/s0005/0000/0000/5912/9133/hlsp_qlp_tess_ffi_s0005-0000000059129133_tess_v01_llc.fits</td><td>SCIENCE</td><td>Minimum Recommended Products</td><td>--</td><td>--</td><td>QLP</td><td>--</td><td>N/A</td><td>hlsp_qlp_tess_ffi_s0005-0000000059129133_tess_v01_llc.fits</td><td>77760</td><td>57781650</td><td>PUBLIC</td><td>4</td><td>TESS</td><td>QLP</td><td>TESS Sector 05</td><td>None</td><td>2018</td><td>3</td></tr>\n",
       "<tr><td>science</td><td>HLSP</td><td>QLP</td><td>--</td><td>TESS</td><td>TESS</td><td>Optical</td><td>59129133</td><td>--</td><td>hlsp_qlp_tess_ffi_s0032-0000000059129133_tess_v01_llc</td><td>74.8683970426</td><td>14.2733048285</td><td>timeseries</td><td>Chelsea X. Huang</td><td>4</td><td>59173.73137218924</td><td>59199.73148419289</td><td>600.0</td><td>600.0</td><td>1000.0</td><td>--</td><td>59565.73175915</td><td>N/A</td><td>--</td><td>32</td><td>CIRCLE ICRS 74.86839704 14.27330483 0.00111111</td><td>--</td><td>mast:HLSP/qlp/s0032/0000/0000/5912/9133/hlsp_qlp_tess_ffi_s0032-0000000059129133_tess_v01_llc.fits</td><td>PUBLIC</td><td>False</td><td>nan</td><td>66920959</td><td>132539436</td><td>132539436</td><td>0.0</td><td>600</td><td>66920959</td><td>HLSP</td><td>timeseries</td><td>FITS</td><td>C</td><td>mast:HLSP/qlp/s0032/0000/0000/5912/9133/hlsp_qlp_tess_ffi_s0032-0000000059129133_tess_v01_llc.fits</td><td>SCIENCE</td><td>Minimum Recommended Products</td><td>--</td><td>--</td><td>QLP</td><td>--</td><td>N/A</td><td>hlsp_qlp_tess_ffi_s0032-0000000059129133_tess_v01_llc.fits</td><td>210240</td><td>66920959</td><td>PUBLIC</td><td>4</td><td>TESS</td><td>QLP</td><td>TESS Sector 32</td><td>None</td><td>2020</td><td>3</td></tr>\n",
       "<tr><td>...</td><td>...</td><td>...</td><td>...</td><td>...</td><td>...</td><td>...</td><td>...</td><td>...</td><td>...</td><td>...</td><td>...</td><td>...</td><td>...</td><td>...</td><td>...</td><td>...</td><td>...</td><td>...</td><td>...</td><td>...</td><td>...</td><td>...</td><td>...</td><td>...</td><td>...</td><td>...</td><td>...</td><td>...</td><td>...</td><td>...</td><td>...</td><td>...</td><td>...</td><td>...</td><td>...</td><td>...</td><td>...</td><td>...</td><td>...</td><td>...</td><td>...</td><td>...</td><td>...</td><td>...</td><td>...</td><td>...</td><td>...</td><td>...</td><td>...</td><td>...</td><td>...</td><td>...</td><td>...</td><td>...</td><td>...</td><td>...</td><td>...</td><td>...</td><td>...</td></tr>\n",
       "<tr><td>science</td><td>TESS</td><td>SPOC</td><td>Photometer</td><td>TESS</td><td>TESS</td><td>Optical</td><td>60005364</td><td>--</td><td>tess2023289093419-s0071-0000000060005364-0266-s</td><td>72.3041083033918</td><td>24.8028410399179</td><td>timeseries</td><td>Ricker, George</td><td>3</td><td>60234.04421537037</td><td>60259.294337037034</td><td>120.0</td><td>600.0</td><td>1000.0</td><td>--</td><td>60282.0</td><td>G06120</td><td>--</td><td>71</td><td>CIRCLE 72.3041083 24.80284104 0.00138889</td><td>--</td><td>mast:TESS/product/tess2023289093419-s0071-0000000060005364-0266-s_lc.fits</td><td>PUBLIC</td><td>False</td><td>nan</td><td>197689148</td><td>359275647</td><td>359275647</td><td>0.0</td><td>120</td><td>197689148</td><td>TESS</td><td>timeseries</td><td>Light curves</td><td>S</td><td>mast:TESS/product/tess2023289093419-s0071-0000000060005364-0266-s_lc.fits</td><td>SCIENCE</td><td>Minimum Recommended Products</td><td>LC</td><td>--</td><td>SPOC</td><td>spoc-5.0.101-20231004</td><td>G06120</td><td>tess2023289093419-s0071-0000000060005364-0266-s_lc.fits</td><td>1897920</td><td>197689148</td><td>PUBLIC</td><td>3</td><td>TESS</td><td>SPOC</td><td>TESS Sector 71</td><td>None</td><td>2023</td><td>1</td></tr>\n",
       "<tr><td>science</td><td>HLSP</td><td>TESS-SPOC</td><td>Photometer</td><td>TESS</td><td>TESS</td><td>Optical</td><td>60005364</td><td>--</td><td>hlsp_tess-spoc_tess_phot_0000000060005364-s0043_tess_v1_tp</td><td>72.3041083033918</td><td>24.8028410399179</td><td>timeseries</td><td>Douglas A. Caldwell</td><td>4</td><td>59473.666942199074</td><td>59498.39139417824</td><td>600.0</td><td>600.0</td><td>1000.0</td><td>--</td><td>59925.68237254</td><td>N/A</td><td>--</td><td>43</td><td>CIRCLE 72.3041083033918 24.8028410399179 0.0011111111111111111</td><td>--</td><td>mast:HLSP/tess-spoc/s0043/target/0000/0000/6000/5364/hlsp_tess-spoc_tess_phot_0000000060005364-s0043_tess_v1_lc.fits</td><td>PUBLIC</td><td>False</td><td>nan</td><td>104018128</td><td>193723269</td><td>193723269</td><td>0.0</td><td>600</td><td>104018128</td><td>HLSP</td><td>timeseries</td><td>FITS</td><td>D</td><td>mast:HLSP/tess-spoc/s0043/target/0000/0000/6000/5364/hlsp_tess-spoc_tess_phot_0000000060005364-s0043_tess_v1_lc.fits</td><td>SCIENCE</td><td>Minimum Recommended Products</td><td>--</td><td>--</td><td>TESS-SPOC</td><td>62</td><td>N/A</td><td>hlsp_tess-spoc_tess_phot_0000000060005364-s0043_tess_v1_lc.fits</td><td>385920</td><td>104018128</td><td>PUBLIC</td><td>4</td><td>TESS</td><td>TESS-SPOC</td><td>TESS Sector 43</td><td>None</td><td>2021</td><td>2</td></tr>\n",
       "<tr><td>science</td><td>HLSP</td><td>TESS-SPOC</td><td>Photometer</td><td>TESS</td><td>TESS</td><td>Optical</td><td>60005364</td><td>--</td><td>hlsp_tess-spoc_tess_phot_0000000060005364-s0044_tess_v1_tp</td><td>72.3041083033918</td><td>24.8028410399179</td><td>timeseries</td><td>Douglas A. Caldwell</td><td>4</td><td>59499.69012133102</td><td>59523.94170923611</td><td>600.0</td><td>600.0</td><td>1000.0</td><td>--</td><td>59933.43174768</td><td>N/A</td><td>--</td><td>44</td><td>CIRCLE 72.3041083033918 24.8028410399179 0.0011111111111111111</td><td>--</td><td>mast:HLSP/tess-spoc/s0044/target/0000/0000/6000/5364/hlsp_tess-spoc_tess_phot_0000000060005364-s0044_tess_v1_lc.fits</td><td>PUBLIC</td><td>False</td><td>nan</td><td>106406131</td><td>197624049</td><td>197624049</td><td>0.0</td><td>600</td><td>106406131</td><td>HLSP</td><td>timeseries</td><td>FITS</td><td>D</td><td>mast:HLSP/tess-spoc/s0044/target/0000/0000/6000/5364/hlsp_tess-spoc_tess_phot_0000000060005364-s0044_tess_v1_lc.fits</td><td>SCIENCE</td><td>Minimum Recommended Products</td><td>--</td><td>--</td><td>TESS-SPOC</td><td>64</td><td>N/A</td><td>hlsp_tess-spoc_tess_phot_0000000060005364-s0044_tess_v1_lc.fits</td><td>380160</td><td>106406131</td><td>PUBLIC</td><td>4</td><td>TESS</td><td>TESS-SPOC</td><td>TESS Sector 44</td><td>None</td><td>2021</td><td>2</td></tr>\n",
       "<tr><td>science</td><td>HLSP</td><td>TESS-SPOC</td><td>Photometer</td><td>TESS</td><td>TESS</td><td>OPTICAL</td><td>60005364</td><td>--</td><td>hlsp_tess-spoc_tess_phot_0000000060005364-s0071_tess_v1_tp</td><td>72.3041083033918</td><td>24.8028410399179</td><td>timeseries</td><td>Douglas A. Caldwell</td><td>4</td><td>60233.54186347222</td><td>60259.443879652776</td><td>200.0</td><td>600.0</td><td>1000.0</td><td>--</td><td>60594.74493051</td><td>N/A</td><td>--</td><td>71</td><td>CIRCLE 72.3041083033918 24.8028410399179 0.0011111111111111111</td><td>--</td><td>mast:HLSP/tess-spoc/s0071/target/0000/0000/6000/5364/hlsp_tess-spoc_tess_phot_0000000060005364-s0071_tess_v1_lc.fits</td><td>PUBLIC</td><td>False</td><td>nan</td><td>230361869</td><td>629803281</td><td>629803281</td><td>0.0</td><td>200</td><td>230361869</td><td>HLSP</td><td>timeseries</td><td>FITS</td><td>D</td><td>mast:HLSP/tess-spoc/s0071/target/0000/0000/6000/5364/hlsp_tess-spoc_tess_phot_0000000060005364-s0071_tess_v1_lc.fits</td><td>SCIENCE</td><td>Minimum Recommended Products</td><td>--</td><td>--</td><td>TESS-SPOC</td><td>100</td><td>N/A</td><td>hlsp_tess-spoc_tess_phot_0000000060005364-s0071_tess_v1_lc.fits</td><td>1152000</td><td>230361869</td><td>PUBLIC</td><td>4</td><td>TESS</td><td>TESS-SPOC</td><td>TESS Sector 71</td><td>None</td><td>2023</td><td>2</td></tr>\n",
       "<tr><td>science</td><td>HLSP</td><td>QLP</td><td>Photometer</td><td>TESS</td><td>TESS</td><td>Optical</td><td>60005364</td><td>--</td><td>hlsp_qlp_tess_ffi_s0043-0000000060005364_tess_v01_llc</td><td>72.3041083034</td><td>24.8028410399</td><td>timeseries</td><td>Chelsea X. Huang</td><td>4</td><td>59473.6712375707</td><td>59498.38874466764</td><td>600.0</td><td>600.0</td><td>1000.0</td><td>--</td><td>59920.94798604</td><td>N/A</td><td>--</td><td>43</td><td>CIRCLE 72.3041083034 24.8028410399 0.0011111111111111111</td><td>--</td><td>mast:HLSP/qlp/s0043/0000/0000/6000/5364/hlsp_qlp_tess_ffi_s0043-0000000060005364_tess_v01_llc.fits</td><td>PUBLIC</td><td>False</td><td>nan</td><td>103413178</td><td>192317312</td><td>192317312</td><td>0.0</td><td>600</td><td>103413178</td><td>HLSP</td><td>timeseries</td><td>FITS</td><td>D</td><td>mast:HLSP/qlp/s0043/0000/0000/6000/5364/hlsp_qlp_tess_ffi_s0043-0000000060005364_tess_v01_llc.fits</td><td>SCIENCE</td><td>Minimum Recommended Products</td><td>--</td><td>--</td><td>QLP</td><td>--</td><td>N/A</td><td>hlsp_qlp_tess_ffi_s0043-0000000060005364_tess_v01_llc.fits</td><td>201600</td><td>103413178</td><td>PUBLIC</td><td>4</td><td>TESS</td><td>QLP</td><td>TESS Sector 43</td><td>None</td><td>2021</td><td>3</td></tr>\n",
       "<tr><td>science</td><td>HLSP</td><td>QLP</td><td>Photometer</td><td>TESS</td><td>TESS</td><td>Optical</td><td>60005364</td><td>--</td><td>hlsp_qlp_tess_ffi_s0044-0000000060005364_tess_v01_llc</td><td>72.3041083034</td><td>24.8028410399</td><td>timeseries</td><td>Chelsea X. Huang</td><td>4</td><td>59499.69441689784</td><td>59523.9390600957</td><td>600.0</td><td>600.0</td><td>1000.0</td><td>--</td><td>59934.44987262</td><td>N/A</td><td>--</td><td>44</td><td>CIRCLE 72.3041083034 24.8028410399 0.0011111111111111111</td><td>--</td><td>mast:HLSP/qlp/s0044/0000/0000/6000/5364/hlsp_qlp_tess_ffi_s0044-0000000060005364_tess_v01_llc.fits</td><td>PUBLIC</td><td>False</td><td>nan</td><td>106608922</td><td>197946985</td><td>197946985</td><td>0.0</td><td>600</td><td>106608922</td><td>HLSP</td><td>timeseries</td><td>FITS</td><td>D</td><td>mast:HLSP/qlp/s0044/0000/0000/6000/5364/hlsp_qlp_tess_ffi_s0044-0000000060005364_tess_v01_llc.fits</td><td>SCIENCE</td><td>Minimum Recommended Products</td><td>--</td><td>--</td><td>QLP</td><td>--</td><td>N/A</td><td>hlsp_qlp_tess_ffi_s0044-0000000060005364_tess_v01_llc.fits</td><td>192960</td><td>106608922</td><td>PUBLIC</td><td>4</td><td>TESS</td><td>QLP</td><td>TESS Sector 44</td><td>None</td><td>2021</td><td>3</td></tr>\n",
       "<tr><td>science</td><td>HLSP</td><td>QLP</td><td>Photometer</td><td>TESS</td><td>TESS</td><td>OPTICAL</td><td>60005364</td><td>--</td><td>hlsp_qlp_tess_ffi_s0071-0000000060005364_tess_v01_llc</td><td>72.3041083034</td><td>24.8028410399</td><td>timeseries</td><td>Chelsea X. Huang</td><td>4</td><td>60233.53458431689</td><td>60259.471324557904</td><td>200.0</td><td>600.0</td><td>1000.0</td><td>--</td><td>60426.71037024</td><td>N/A</td><td>--</td><td>71</td><td>CIRCLE 72.3041083034 24.8028410399 0.0011111111111111111</td><td>--</td><td>mast:HLSP/qlp/s0071/0000/0000/6000/5364/hlsp_qlp_tess_ffi_s0071-0000000060005364_tess_v01_llc.fits</td><td>PUBLIC</td><td>False</td><td>nan</td><td>213562441</td><td>419165581</td><td>419165581</td><td>0.0</td><td>200</td><td>213562441</td><td>HLSP</td><td>timeseries</td><td>FITS</td><td>D</td><td>mast:HLSP/qlp/s0071/0000/0000/6000/5364/hlsp_qlp_tess_ffi_s0071-0000000060005364_tess_v01_llc.fits</td><td>SCIENCE</td><td>Minimum Recommended Products</td><td>--</td><td>--</td><td>QLP</td><td>--</td><td>N/A</td><td>hlsp_qlp_tess_ffi_s0071-0000000060005364_tess_v01_llc.fits</td><td>665280</td><td>213562441</td><td>PUBLIC</td><td>4</td><td>TESS</td><td>QLP</td><td>TESS Sector 71</td><td>None</td><td>2023</td><td>3</td></tr>\n",
       "<tr><td>science</td><td>HLSP</td><td>CDIPS</td><td>Photometer</td><td>TESS</td><td>TESS</td><td>Optical</td><td>60005364</td><td>--</td><td>hlsp_cdips_tess_ffi_gaiatwo0000147182172683187712-s0043-cam3-ccd4_tess_v01_llc</td><td>72.3045099558</td><td>24.8026122772</td><td>timeseries</td><td>Luke Bouma</td><td>4</td><td>59473.6694244002</td><td>59498.38469120022</td><td>1800.0</td><td>600.0</td><td>1000.0</td><td>--</td><td>60286.41747684</td><td>N/A</td><td>--</td><td>43</td><td>CIRCLE 72.3045099558 24.8026122772 0.005833333333333334</td><td>--</td><td>mast:HLSP/cdips/s0043/cam3_ccd4/hlsp_cdips_tess_ffi_gaiatwo0000147182172683187712-s0043-cam3-ccd4_tess_v01_llc.fits</td><td>PUBLIC</td><td>False</td><td>nan</td><td>198361863</td><td>360509691</td><td>360509691</td><td>0.0</td><td>1800</td><td>198361863</td><td>HLSP</td><td>timeseries</td><td>FITS</td><td>S</td><td>mast:HLSP/cdips/s0043/cam3_ccd4/hlsp_cdips_tess_ffi_gaiatwo0000147182172683187712-s0043-cam3-ccd4_tess_v01_llc.fits</td><td>SCIENCE</td><td>Minimum Recommended Products</td><td>--</td><td>--</td><td>CDIPS</td><td>4059</td><td>N/A</td><td>hlsp_cdips_tess_ffi_gaiatwo0000147182172683187712-s0043-cam3-ccd4_tess_v01_llc.fits</td><td>996480</td><td>198361863</td><td>PUBLIC</td><td>4</td><td>TESS</td><td>CDIPS</td><td>TESS Sector 43</td><td>None</td><td>2021</td><td>9</td></tr>\n",
       "<tr><td>science</td><td>HLSP</td><td>CDIPS</td><td>Photometer</td><td>TESS</td><td>TESS</td><td>Optical</td><td>60005364</td><td>--</td><td>hlsp_cdips_tess_ffi_gaiatwo0000147182172683187712-s0044-cam2-ccd3_tess_v01_llc</td><td>72.3045099558</td><td>24.8026122772</td><td>timeseries</td><td>Luke Bouma</td><td>4</td><td>59499.69025760004</td><td>59523.93330249982</td><td>1800.0</td><td>600.0</td><td>1000.0</td><td>--</td><td>60286.59873831</td><td>N/A</td><td>--</td><td>44</td><td>CIRCLE 72.3045099558 24.8026122772 0.005833333333333334</td><td>--</td><td>mast:HLSP/cdips/s0044/cam2_ccd3/hlsp_cdips_tess_ffi_gaiatwo0000147182172683187712-s0044-cam2-ccd3_tess_v01_llc.fits</td><td>PUBLIC</td><td>False</td><td>nan</td><td>198388762</td><td>360550932</td><td>360550932</td><td>0.0</td><td>1800</td><td>198388762</td><td>HLSP</td><td>timeseries</td><td>FITS</td><td>S</td><td>mast:HLSP/cdips/s0044/cam2_ccd3/hlsp_cdips_tess_ffi_gaiatwo0000147182172683187712-s0044-cam2-ccd3_tess_v01_llc.fits</td><td>SCIENCE</td><td>Minimum Recommended Products</td><td>--</td><td>--</td><td>CDIPS</td><td>4070</td><td>N/A</td><td>hlsp_cdips_tess_ffi_gaiatwo0000147182172683187712-s0044-cam2-ccd3_tess_v01_llc.fits</td><td>959040</td><td>198388762</td><td>PUBLIC</td><td>4</td><td>TESS</td><td>CDIPS</td><td>TESS Sector 44</td><td>None</td><td>2021</td><td>9</td></tr>\n",
       "</table></div>"
      ],
      "text/plain": [
       "<Table length=2234>\n",
       "intentType obs_collection provenance_name ...   #     year sort_order\n",
       "                                          ...                        \n",
       "   str7         str4           str17      ... object int64   int64   \n",
       "---------- -------------- --------------- ... ------ ----- ----------\n",
       "   science             K2              K2 ...   None  2017          1\n",
       "   science           HLSP         EVEREST ...   None  2017          9\n",
       "   science           HLSP           K2SFF ...   None  2017          9\n",
       "   science           TESS            SPOC ...   None  2021          1\n",
       "   science           TESS            SPOC ...   None  2021          1\n",
       "   science           HLSP       TESS-SPOC ...   None  2021          2\n",
       "   science           HLSP       TESS-SPOC ...   None  2021          2\n",
       "   science           HLSP             QLP ...   None  2018          3\n",
       "   science           HLSP             QLP ...   None  2020          3\n",
       "       ...            ...             ... ...    ...   ...        ...\n",
       "   science           TESS            SPOC ...   None  2023          1\n",
       "   science           HLSP       TESS-SPOC ...   None  2021          2\n",
       "   science           HLSP       TESS-SPOC ...   None  2021          2\n",
       "   science           HLSP       TESS-SPOC ...   None  2023          2\n",
       "   science           HLSP             QLP ...   None  2021          3\n",
       "   science           HLSP             QLP ...   None  2021          3\n",
       "   science           HLSP             QLP ...   None  2023          3\n",
       "   science           HLSP           CDIPS ...   None  2021          9\n",
       "   science           HLSP           CDIPS ...   None  2021          9"
      ]
     },
     "execution_count": 66,
     "metadata": {},
     "output_type": "execute_result"
    }
   ],
   "source": [
    "ticresults"
   ]
  }
 ],
 "metadata": {
  "kernelspec": {
   "display_name": "Python [conda env:bdnyc]",
   "language": "python",
   "name": "conda-env-bdnyc-py"
  },
  "language_info": {
   "codemirror_mode": {
    "name": "ipython",
    "version": 3
   },
   "file_extension": ".py",
   "mimetype": "text/x-python",
   "name": "python",
   "nbconvert_exporter": "python",
   "pygments_lexer": "ipython3",
   "version": "3.12.7"
  }
 },
 "nbformat": 4,
 "nbformat_minor": 5
}
