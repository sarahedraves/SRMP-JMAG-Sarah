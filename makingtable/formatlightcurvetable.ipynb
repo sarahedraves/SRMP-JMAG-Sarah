{
 "cells": [
  {
   "cell_type": "code",
   "execution_count": 2,
   "id": "0d6509d7-a1f7-4adf-bd02-7384ad9ecad9",
   "metadata": {},
   "outputs": [],
   "source": [
    "import numpy as np\n",
    "import pandas as pd\n",
    "import lightkurve as lk \n",
    "import matplotlib.pyplot as plt\n",
    "import astropy.table as tb\n",
    "from astropy.io import ascii\n",
    "import re"
   ]
  },
  {
   "cell_type": "code",
   "execution_count": 3,
   "id": "2ede9b45-bc87-4f00-a646-6287fbc7f2a4",
   "metadata": {},
   "outputs": [],
   "source": [
    "pd.options.display.max_columns = None"
   ]
  },
  {
   "cell_type": "code",
   "execution_count": 4,
   "id": "781239db-c436-4962-91be-07907aabc4e7",
   "metadata": {},
   "outputs": [],
   "source": [
    "tics=ascii.read('ticresults.dat')\n",
    "epics=ascii.read('epicresults.dat')"
   ]
  },
  {
   "cell_type": "code",
   "execution_count": 5,
   "id": "bee7b736-4f70-4aa6-a6ba-868c270b5091",
   "metadata": {},
   "outputs": [],
   "source": [
    "dtypes={'pop_id':'string','TIC':'string','gaiadr3_source_id':'string','epic_id':'string'}\n",
    "id_table=pd.read_csv('idswithdiscopaper.csv',dtype=dtypes)"
   ]
  },
  {
   "cell_type": "code",
   "execution_count": 6,
   "id": "3e0d1d9b-69a1-4ca2-b1dc-e7b1d2278975",
   "metadata": {},
   "outputs": [],
   "source": [
    "id_table=id_table[['pop_id','TIC','gaiadr3_source_id','per','epic_id','disco_paper','author','year']]"
   ]
  },
  {
   "cell_type": "code",
   "execution_count": 7,
   "id": "8404f492-ef2d-4dd8-9fb0-7174e3a8a14f",
   "metadata": {},
   "outputs": [],
   "source": [
    "# id_table['tess_sectors']=\"\"\n",
    "# id_table['K2_campaign']=\"\""
   ]
  },
  {
   "cell_type": "code",
   "execution_count": 8,
   "id": "aa417fb2-139a-4164-a2ef-d2f865e254d5",
   "metadata": {},
   "outputs": [],
   "source": [
    "# id_table['TIC']=id_table['TIC'].astype('Int64').astype('string')\n",
    "# id_table['epic_id']=id_table['epic_id'].astype('Int64').astype('string')"
   ]
  },
  {
   "cell_type": "code",
   "execution_count": 9,
   "id": "17f62d98-c4a0-45e8-9c2f-959944357e05",
   "metadata": {},
   "outputs": [
    {
     "data": {
      "text/html": [
       "<div>\n",
       "<style scoped>\n",
       "    .dataframe tbody tr th:only-of-type {\n",
       "        vertical-align: middle;\n",
       "    }\n",
       "\n",
       "    .dataframe tbody tr th {\n",
       "        vertical-align: top;\n",
       "    }\n",
       "\n",
       "    .dataframe thead th {\n",
       "        text-align: right;\n",
       "    }\n",
       "</style>\n",
       "<table border=\"1\" class=\"dataframe\">\n",
       "  <thead>\n",
       "    <tr style=\"text-align: right;\">\n",
       "      <th></th>\n",
       "      <th>pop_id</th>\n",
       "      <th>TIC</th>\n",
       "      <th>gaiadr3_source_id</th>\n",
       "      <th>per</th>\n",
       "      <th>epic_id</th>\n",
       "      <th>disco_paper</th>\n",
       "      <th>author</th>\n",
       "      <th>year</th>\n",
       "    </tr>\n",
       "  </thead>\n",
       "  <tbody>\n",
       "    <tr>\n",
       "      <th>0</th>\n",
       "      <td>0</td>\n",
       "      <td>59129133</td>\n",
       "      <td>3392549449695395968</td>\n",
       "      <td>0.6253</td>\n",
       "      <td>246676629</td>\n",
       "      <td>Stauffer_2018</td>\n",
       "      <td>Stauffer</td>\n",
       "      <td>2018</td>\n",
       "    </tr>\n",
       "    <tr>\n",
       "      <th>1</th>\n",
       "      <td>1</td>\n",
       "      <td>59091144</td>\n",
       "      <td>3392553852037339776</td>\n",
       "      <td>3.6324</td>\n",
       "      <td>246682490</td>\n",
       "      <td>Stauffer_2018</td>\n",
       "      <td>Stauffer</td>\n",
       "      <td>2018</td>\n",
       "    </tr>\n",
       "    <tr>\n",
       "      <th>2</th>\n",
       "      <td>2</td>\n",
       "      <td>118769116</td>\n",
       "      <td>3411342134934571520</td>\n",
       "      <td>0.3568</td>\n",
       "      <td>247343526</td>\n",
       "      <td>Stauffer_2018</td>\n",
       "      <td>Stauffer</td>\n",
       "      <td>2018</td>\n",
       "    </tr>\n",
       "    <tr>\n",
       "      <th>3</th>\n",
       "      <td>3</td>\n",
       "      <td>175594111</td>\n",
       "      <td>6045818685674325760</td>\n",
       "      <td>0.5993</td>\n",
       "      <td>203354381</td>\n",
       "      <td>Stauffer_2018</td>\n",
       "      <td>Stauffer</td>\n",
       "      <td>2018</td>\n",
       "    </tr>\n",
       "    <tr>\n",
       "      <th>4</th>\n",
       "      <td>4</td>\n",
       "      <td>322928171</td>\n",
       "      <td>6048612514663537280</td>\n",
       "      <td>0.7794</td>\n",
       "      <td>203636498</td>\n",
       "      <td>Stauffer_2018</td>\n",
       "      <td>Stauffer</td>\n",
       "      <td>2018</td>\n",
       "    </tr>\n",
       "    <tr>\n",
       "      <th>...</th>\n",
       "      <td>...</td>\n",
       "      <td>...</td>\n",
       "      <td>...</td>\n",
       "      <td>...</td>\n",
       "      <td>...</td>\n",
       "      <td>...</td>\n",
       "      <td>...</td>\n",
       "      <td>...</td>\n",
       "    </tr>\n",
       "    <tr>\n",
       "      <th>192</th>\n",
       "      <td>192</td>\n",
       "      <td>245792696</td>\n",
       "      <td>3312903580454386048</td>\n",
       "      <td>11.4675</td>\n",
       "      <td>210554781</td>\n",
       "      <td>Rebull_2020</td>\n",
       "      <td>Rebull</td>\n",
       "      <td>2020</td>\n",
       "    </tr>\n",
       "    <tr>\n",
       "      <th>193</th>\n",
       "      <td>193</td>\n",
       "      <td>268510346</td>\n",
       "      <td>147940663906992512</td>\n",
       "      <td>1.4853</td>\n",
       "      <td>247888948</td>\n",
       "      <td>Rebull_2020</td>\n",
       "      <td>Rebull</td>\n",
       "      <td>2020</td>\n",
       "    </tr>\n",
       "    <tr>\n",
       "      <th>194</th>\n",
       "      <td>194</td>\n",
       "      <td>245869001</td>\n",
       "      <td>3313384651152556416</td>\n",
       "      <td>2.6815</td>\n",
       "      <td>246932950</td>\n",
       "      <td>Rebull_2020</td>\n",
       "      <td>Rebull</td>\n",
       "      <td>2020</td>\n",
       "    </tr>\n",
       "    <tr>\n",
       "      <th>195</th>\n",
       "      <td>195</td>\n",
       "      <td>60005364</td>\n",
       "      <td>147182172683187712</td>\n",
       "      <td>7.4762</td>\n",
       "      <td>247857331</td>\n",
       "      <td>Rebull_2020</td>\n",
       "      <td>Rebull</td>\n",
       "      <td>2020</td>\n",
       "    </tr>\n",
       "    <tr>\n",
       "      <th>196</th>\n",
       "      <td>196</td>\n",
       "      <td>&lt;NA&gt;</td>\n",
       "      <td>3308598064718584448</td>\n",
       "      <td>2.9245</td>\n",
       "      <td>246650193</td>\n",
       "      <td>Rebull_2020</td>\n",
       "      <td>Rebull</td>\n",
       "      <td>2020</td>\n",
       "    </tr>\n",
       "  </tbody>\n",
       "</table>\n",
       "<p>197 rows × 8 columns</p>\n",
       "</div>"
      ],
      "text/plain": [
       "    pop_id        TIC    gaiadr3_source_id      per    epic_id    disco_paper  \\\n",
       "0        0   59129133  3392549449695395968   0.6253  246676629  Stauffer_2018   \n",
       "1        1   59091144  3392553852037339776   3.6324  246682490  Stauffer_2018   \n",
       "2        2  118769116  3411342134934571520   0.3568  247343526  Stauffer_2018   \n",
       "3        3  175594111  6045818685674325760   0.5993  203354381  Stauffer_2018   \n",
       "4        4  322928171  6048612514663537280   0.7794  203636498  Stauffer_2018   \n",
       "..     ...        ...                  ...      ...        ...            ...   \n",
       "192    192  245792696  3312903580454386048  11.4675  210554781    Rebull_2020   \n",
       "193    193  268510346   147940663906992512   1.4853  247888948    Rebull_2020   \n",
       "194    194  245869001  3313384651152556416   2.6815  246932950    Rebull_2020   \n",
       "195    195   60005364   147182172683187712   7.4762  247857331    Rebull_2020   \n",
       "196    196       <NA>  3308598064718584448   2.9245  246650193    Rebull_2020   \n",
       "\n",
       "       author  year  \n",
       "0    Stauffer  2018  \n",
       "1    Stauffer  2018  \n",
       "2    Stauffer  2018  \n",
       "3    Stauffer  2018  \n",
       "4    Stauffer  2018  \n",
       "..        ...   ...  \n",
       "192    Rebull  2020  \n",
       "193    Rebull  2020  \n",
       "194    Rebull  2020  \n",
       "195    Rebull  2020  \n",
       "196    Rebull  2020  \n",
       "\n",
       "[197 rows x 8 columns]"
      ]
     },
     "execution_count": 9,
     "metadata": {},
     "output_type": "execute_result"
    }
   ],
   "source": [
    "id_table"
   ]
  },
  {
   "cell_type": "code",
   "execution_count": 10,
   "id": "88bbb414-7d79-47db-9111-60fe1ad0f210",
   "metadata": {},
   "outputs": [],
   "source": [
    "ticdf=tics.to_pandas()"
   ]
  },
  {
   "cell_type": "code",
   "execution_count": 11,
   "id": "0fdf8252-af9f-422d-a878-d2de29c96290",
   "metadata": {},
   "outputs": [],
   "source": [
    "# for index, row in id_table.iterrows():\n",
    "#     curtic=row['TIC']\n",
    "#     if pd.isna(curtic):\n",
    "#         continue\n",
    "#     sectorlist=\"\"\n",
    "#     for index2, row2 in ticdf.iterrows():\n",
    "#         if row2['target_name']==curtic:\n",
    "#             sectorlist=sectorlist+row2['mission']+\" \"+row2['project_products']+\" \"+str(row2['exptime'])+\"s \"\n",
    "#     id_table.at[index,'tess_sectors']=sectorlist"
   ]
  },
  {
   "cell_type": "code",
   "execution_count": 12,
   "id": "7a9792b5-81d8-4de2-84b1-90ef9043b5b5",
   "metadata": {},
   "outputs": [],
   "source": [
    "# id_table"
   ]
  },
  {
   "cell_type": "code",
   "execution_count": 13,
   "id": "38f59133-b3e1-4da3-a8a9-6ddcd66262d6",
   "metadata": {},
   "outputs": [],
   "source": [
    "epicdf=epics.to_pandas()"
   ]
  },
  {
   "cell_type": "code",
   "execution_count": 14,
   "id": "450cff89-1ad2-4eb0-950f-2c3eec903284",
   "metadata": {},
   "outputs": [],
   "source": [
    "# for index, row in id_table.iterrows():\n",
    "#     curepic=row['epic_id']\n",
    "#     if pd.isna(curepic):\n",
    "#         continue\n",
    "#     camplist=\"\"\n",
    "#     for index2, row2 in epicdf.iterrows():\n",
    "#         if re.sub(r'^\\D+', '', row2['target_name'])==curepic:\n",
    "#             camplist=camplist+row2['mission']+\" \"+row2['project_products']+\" \"+str(row2['exptime'])+\"s \"\n",
    "#     id_table.at[index,'K2_campaign']=camplist"
   ]
  },
  {
   "cell_type": "code",
   "execution_count": 15,
   "id": "fa3ac462-4001-43e5-af2f-d5a37ba8d6d7",
   "metadata": {},
   "outputs": [],
   "source": [
    "# id_table"
   ]
  },
  {
   "cell_type": "code",
   "execution_count": 16,
   "id": "04219510-0ad6-45e0-9d45-aa13a1ea4553",
   "metadata": {},
   "outputs": [],
   "source": [
    "# id_table.to_csv('availablelightcurves.csv', index=False)"
   ]
  },
  {
   "cell_type": "code",
   "execution_count": 17,
   "id": "cf781a9b-77c1-4b1f-914a-30a7aa47713e",
   "metadata": {},
   "outputs": [],
   "source": [
    "ffis=pd.read_csv('tesstimes.csv',header=None)"
   ]
  },
  {
   "cell_type": "code",
   "execution_count": 18,
   "id": "da1c0386-6066-45f2-8845-e6fce38a8358",
   "metadata": {},
   "outputs": [],
   "source": [
    "ffis=ffis.astype(str)"
   ]
  },
  {
   "cell_type": "code",
   "execution_count": 19,
   "id": "e2834478-43d8-4aaa-9d6e-c22cd60de9a7",
   "metadata": {},
   "outputs": [
    {
     "data": {
      "text/plain": [
       "(array(['0', '0.0', '1425.6', '158.4', '475.2'], dtype=object),\n",
       " array([ 5910, 13004,   204,   311,   271]))"
      ]
     },
     "execution_count": 19,
     "metadata": {},
     "output_type": "execute_result"
    }
   ],
   "source": [
    "np.unique(ffis.values.ravel(),return_counts=True)"
   ]
  },
  {
   "cell_type": "code",
   "execution_count": 20,
   "id": "970a6817-fa58-4086-b6cc-8c2591d40cc5",
   "metadata": {},
   "outputs": [],
   "source": [
    "#replace exposure times with cadence type\n",
    "for row in range(ffis.shape[0]):\n",
    "    for col in range(ffis.shape[1]):\n",
    "        value=ffis.iat[row,col]\n",
    "        if value=='158.4':\n",
    "            ffis.iat[row,col]='200s'\n",
    "        elif value=='475.2':\n",
    "            ffis.iat[row,col]='10min'\n",
    "        elif value=='1425.6':\n",
    "            ffis.iat[row,col]='30min'\n",
    "        else:\n",
    "            ffis.iat[row,col]='none'"
   ]
  },
  {
   "cell_type": "code",
   "execution_count": 21,
   "id": "58ef47b8-4e22-4c64-b4d6-2549264d5cd6",
   "metadata": {},
   "outputs": [],
   "source": [
    "#ffis"
   ]
  },
  {
   "cell_type": "code",
   "execution_count": 22,
   "id": "3b724d25-bf71-4a87-b0c9-dd50b65d36fe",
   "metadata": {},
   "outputs": [
    {
     "data": {
      "text/plain": [
       "(array(['10min', '200s', '30min', 'none'], dtype=object),\n",
       " array([  271,   311,   204, 18914]))"
      ]
     },
     "execution_count": 22,
     "metadata": {},
     "output_type": "execute_result"
    }
   ],
   "source": [
    "np.unique(ffis.values.ravel(), return_counts=True) #counts of each match above so that's good"
   ]
  },
  {
   "cell_type": "code",
   "execution_count": 23,
   "id": "ec6760b6-9bcb-4be9-b983-9c26e07558af",
   "metadata": {},
   "outputs": [],
   "source": [
    "ticdf=ticdf[ticdf['project']=='TESS'] #drop kepler observations"
   ]
  },
  {
   "cell_type": "code",
   "execution_count": 24,
   "id": "62c02dd1-dd5d-4bde-a3f6-80c218329cbe",
   "metadata": {},
   "outputs": [],
   "source": [
    "ticdf=ticdf[ticdf['exptime']==120] #only the 2min postage stamp cadences"
   ]
  },
  {
   "cell_type": "code",
   "execution_count": 25,
   "id": "ccd5d823-1de3-4e9b-9d68-f98db2a7d02f",
   "metadata": {},
   "outputs": [
    {
     "data": {
      "text/plain": [
       "array(['SPOC', 'TASOC'], dtype=object)"
      ]
     },
     "execution_count": 25,
     "metadata": {},
     "output_type": "execute_result"
    }
   ],
   "source": [
    "ticdf['provenance_name'].unique()"
   ]
  },
  {
   "cell_type": "code",
   "execution_count": 26,
   "id": "a9da6356-9b6b-4075-9408-b24f0e206163",
   "metadata": {},
   "outputs": [],
   "source": [
    "ticdf=ticdf[ticdf['provenance_name'].str.contains('SPOC')] #drop lightcurve types we don't like"
   ]
  },
  {
   "cell_type": "code",
   "execution_count": 27,
   "id": "e5b755da-b2a9-41df-9b89-ebca3b0e7f2d",
   "metadata": {},
   "outputs": [],
   "source": [
    "ticdf['sector']=ticdf['mission'].str.extract(r'(\\d+)').astype(int)"
   ]
  },
  {
   "cell_type": "code",
   "execution_count": 28,
   "id": "dbe48160-4eb1-4748-ad2c-3a64846df5a6",
   "metadata": {},
   "outputs": [],
   "source": [
    "#ticdf"
   ]
  },
  {
   "cell_type": "code",
   "execution_count": 29,
   "id": "5849644c-d0cc-479a-8b8b-27c3897c2aa5",
   "metadata": {},
   "outputs": [],
   "source": [
    "bestTESSlc=pd.DataFrame([[''] * ffis.shape[1] for _ in range(ffis.shape[0])])\n",
    "bestTESSlc.columns = [f'Sector {i}' for i in range(ffis.shape[1])]"
   ]
  },
  {
   "cell_type": "code",
   "execution_count": 30,
   "id": "479dcacc-f76f-4e63-88b6-9facda284c23",
   "metadata": {},
   "outputs": [],
   "source": [
    "#needs to be in format id_type-starid-secorcamp-author-exptime so get_lc fn can work on it\n",
    "# for curTIC, row in zip(id_table['TIC'],range(bestTESSlc.shape[0])):\n",
    "#     if pd.isna(curTIC):\n",
    "#         continue\n",
    "#     for col in range(bestTESSlc.shape[1]): #remember that col is the sector number we're considering here\n",
    "#         bestcurve=''\n",
    "#         #first check if there's a SPOC curve for it\n",
    "#         for index2, row2 in ticdf.iterrows():\n",
    "#             if row2['target_name']==curTIC and row2['sector']==col:\n",
    "#                 bestcurve='TIC'+'-'+curTIC+'-'+str(col)+'-'+row2['provenance_name']+'-'+str(row2['exptime'])\n",
    "#         #if it didn't find a postage stamp lightcurve for this sector get the FFI info\n",
    "#         if bestcurve=='': \n",
    "#             exptime=ffis.iat[row,col]\n",
    "#             if exptime!='none':\n",
    "#                 bestcurve='TIC'+'-'+curTIC+'-'+str(col)+'-FFI-'+exptime\n",
    "#         bestTESSlc.iat[row,col]=bestcurve"
   ]
  },
  {
   "cell_type": "code",
   "execution_count": 31,
   "id": "77dbcd9f-7a45-49d7-89d0-3fc3bedf5099",
   "metadata": {},
   "outputs": [],
   "source": [
    "#bestTESSlc"
   ]
  },
  {
   "cell_type": "code",
   "execution_count": 32,
   "id": "fee90585-5af9-45b0-911c-b09797503825",
   "metadata": {},
   "outputs": [],
   "source": [
    "#bestTESSlc.to_csv('bestTESSlc.csv')"
   ]
  },
  {
   "cell_type": "code",
   "execution_count": 33,
   "id": "8780f56c-6e79-4f7a-8fcb-ae8201778a67",
   "metadata": {},
   "outputs": [],
   "source": [
    "epicdf=epicdf[epicdf['project']=='K2']\n",
    "epicdf=epicdf[epicdf['provenance_name']=='EVEREST']\n",
    "epicdf['campaign']=epicdf['mission'].str.extract(r'(\\d+)$').astype(int)"
   ]
  },
  {
   "cell_type": "code",
   "execution_count": 81,
   "id": "4c7835b8-575b-4510-97a8-dd0081573858",
   "metadata": {},
   "outputs": [],
   "source": [
    "maxcampaign=epicdf['campaign'].max()+1"
   ]
  },
  {
   "cell_type": "code",
   "execution_count": 83,
   "id": "330a7e48-825b-4915-ae55-36fbbc2a4d1f",
   "metadata": {},
   "outputs": [],
   "source": [
    "bestK2lc=pd.DataFrame([[''] * maxcampaign for _ in range(ffis.shape[0])])\n",
    "bestK2lc.columns = [f'Campaign {i}' for i in range(maxcampaign)]"
   ]
  },
  {
   "cell_type": "code",
   "execution_count": 89,
   "id": "8c08fc7e-d7be-4503-88ec-9c3b4a2d662d",
   "metadata": {
    "collapsed": true,
    "jupyter": {
     "outputs_hidden": true
    }
   },
   "outputs": [
    {
     "data": {
      "text/html": [
       "<div>\n",
       "<style scoped>\n",
       "    .dataframe tbody tr th:only-of-type {\n",
       "        vertical-align: middle;\n",
       "    }\n",
       "\n",
       "    .dataframe tbody tr th {\n",
       "        vertical-align: top;\n",
       "    }\n",
       "\n",
       "    .dataframe thead th {\n",
       "        text-align: right;\n",
       "    }\n",
       "</style>\n",
       "<table border=\"1\" class=\"dataframe\">\n",
       "  <thead>\n",
       "    <tr style=\"text-align: right;\">\n",
       "      <th></th>\n",
       "      <th>Campaign 0</th>\n",
       "      <th>Campaign 1</th>\n",
       "      <th>Campaign 2</th>\n",
       "      <th>Campaign 3</th>\n",
       "      <th>Campaign 4</th>\n",
       "      <th>Campaign 5</th>\n",
       "      <th>Campaign 6</th>\n",
       "      <th>Campaign 7</th>\n",
       "      <th>Campaign 8</th>\n",
       "      <th>Campaign 9</th>\n",
       "      <th>Campaign 10</th>\n",
       "      <th>Campaign 11</th>\n",
       "      <th>Campaign 12</th>\n",
       "      <th>Campaign 13</th>\n",
       "      <th>Campaign 14</th>\n",
       "      <th>Campaign 15</th>\n",
       "    </tr>\n",
       "  </thead>\n",
       "  <tbody>\n",
       "    <tr>\n",
       "      <th>0</th>\n",
       "      <td></td>\n",
       "      <td></td>\n",
       "      <td></td>\n",
       "      <td></td>\n",
       "      <td></td>\n",
       "      <td></td>\n",
       "      <td></td>\n",
       "      <td></td>\n",
       "      <td></td>\n",
       "      <td></td>\n",
       "      <td></td>\n",
       "      <td></td>\n",
       "      <td></td>\n",
       "      <td></td>\n",
       "      <td></td>\n",
       "      <td></td>\n",
       "    </tr>\n",
       "    <tr>\n",
       "      <th>1</th>\n",
       "      <td></td>\n",
       "      <td></td>\n",
       "      <td></td>\n",
       "      <td></td>\n",
       "      <td></td>\n",
       "      <td></td>\n",
       "      <td></td>\n",
       "      <td></td>\n",
       "      <td></td>\n",
       "      <td></td>\n",
       "      <td></td>\n",
       "      <td></td>\n",
       "      <td></td>\n",
       "      <td></td>\n",
       "      <td></td>\n",
       "      <td></td>\n",
       "    </tr>\n",
       "    <tr>\n",
       "      <th>2</th>\n",
       "      <td></td>\n",
       "      <td></td>\n",
       "      <td></td>\n",
       "      <td></td>\n",
       "      <td></td>\n",
       "      <td></td>\n",
       "      <td></td>\n",
       "      <td></td>\n",
       "      <td></td>\n",
       "      <td></td>\n",
       "      <td></td>\n",
       "      <td></td>\n",
       "      <td></td>\n",
       "      <td></td>\n",
       "      <td></td>\n",
       "      <td></td>\n",
       "    </tr>\n",
       "    <tr>\n",
       "      <th>3</th>\n",
       "      <td></td>\n",
       "      <td></td>\n",
       "      <td></td>\n",
       "      <td></td>\n",
       "      <td></td>\n",
       "      <td></td>\n",
       "      <td></td>\n",
       "      <td></td>\n",
       "      <td></td>\n",
       "      <td></td>\n",
       "      <td></td>\n",
       "      <td></td>\n",
       "      <td></td>\n",
       "      <td></td>\n",
       "      <td></td>\n",
       "      <td></td>\n",
       "    </tr>\n",
       "    <tr>\n",
       "      <th>4</th>\n",
       "      <td></td>\n",
       "      <td></td>\n",
       "      <td></td>\n",
       "      <td></td>\n",
       "      <td></td>\n",
       "      <td></td>\n",
       "      <td></td>\n",
       "      <td></td>\n",
       "      <td></td>\n",
       "      <td></td>\n",
       "      <td></td>\n",
       "      <td></td>\n",
       "      <td></td>\n",
       "      <td></td>\n",
       "      <td></td>\n",
       "      <td></td>\n",
       "    </tr>\n",
       "    <tr>\n",
       "      <th>...</th>\n",
       "      <td>...</td>\n",
       "      <td>...</td>\n",
       "      <td>...</td>\n",
       "      <td>...</td>\n",
       "      <td>...</td>\n",
       "      <td>...</td>\n",
       "      <td>...</td>\n",
       "      <td>...</td>\n",
       "      <td>...</td>\n",
       "      <td>...</td>\n",
       "      <td>...</td>\n",
       "      <td>...</td>\n",
       "      <td>...</td>\n",
       "      <td>...</td>\n",
       "      <td>...</td>\n",
       "      <td>...</td>\n",
       "    </tr>\n",
       "    <tr>\n",
       "      <th>192</th>\n",
       "      <td></td>\n",
       "      <td></td>\n",
       "      <td></td>\n",
       "      <td></td>\n",
       "      <td></td>\n",
       "      <td></td>\n",
       "      <td></td>\n",
       "      <td></td>\n",
       "      <td></td>\n",
       "      <td></td>\n",
       "      <td></td>\n",
       "      <td></td>\n",
       "      <td></td>\n",
       "      <td></td>\n",
       "      <td></td>\n",
       "      <td></td>\n",
       "    </tr>\n",
       "    <tr>\n",
       "      <th>193</th>\n",
       "      <td></td>\n",
       "      <td></td>\n",
       "      <td></td>\n",
       "      <td></td>\n",
       "      <td></td>\n",
       "      <td></td>\n",
       "      <td></td>\n",
       "      <td></td>\n",
       "      <td></td>\n",
       "      <td></td>\n",
       "      <td></td>\n",
       "      <td></td>\n",
       "      <td></td>\n",
       "      <td></td>\n",
       "      <td></td>\n",
       "      <td></td>\n",
       "    </tr>\n",
       "    <tr>\n",
       "      <th>194</th>\n",
       "      <td></td>\n",
       "      <td></td>\n",
       "      <td></td>\n",
       "      <td></td>\n",
       "      <td></td>\n",
       "      <td></td>\n",
       "      <td></td>\n",
       "      <td></td>\n",
       "      <td></td>\n",
       "      <td></td>\n",
       "      <td></td>\n",
       "      <td></td>\n",
       "      <td></td>\n",
       "      <td></td>\n",
       "      <td></td>\n",
       "      <td></td>\n",
       "    </tr>\n",
       "    <tr>\n",
       "      <th>195</th>\n",
       "      <td></td>\n",
       "      <td></td>\n",
       "      <td></td>\n",
       "      <td></td>\n",
       "      <td></td>\n",
       "      <td></td>\n",
       "      <td></td>\n",
       "      <td></td>\n",
       "      <td></td>\n",
       "      <td></td>\n",
       "      <td></td>\n",
       "      <td></td>\n",
       "      <td></td>\n",
       "      <td></td>\n",
       "      <td></td>\n",
       "      <td></td>\n",
       "    </tr>\n",
       "    <tr>\n",
       "      <th>196</th>\n",
       "      <td></td>\n",
       "      <td></td>\n",
       "      <td></td>\n",
       "      <td></td>\n",
       "      <td></td>\n",
       "      <td></td>\n",
       "      <td></td>\n",
       "      <td></td>\n",
       "      <td></td>\n",
       "      <td></td>\n",
       "      <td></td>\n",
       "      <td></td>\n",
       "      <td></td>\n",
       "      <td></td>\n",
       "      <td></td>\n",
       "      <td></td>\n",
       "    </tr>\n",
       "  </tbody>\n",
       "</table>\n",
       "<p>197 rows × 16 columns</p>\n",
       "</div>"
      ],
      "text/plain": [
       "    Campaign 0 Campaign 1 Campaign 2 Campaign 3 Campaign 4 Campaign 5  \\\n",
       "0                                                                       \n",
       "1                                                                       \n",
       "2                                                                       \n",
       "3                                                                       \n",
       "4                                                                       \n",
       "..         ...        ...        ...        ...        ...        ...   \n",
       "192                                                                     \n",
       "193                                                                     \n",
       "194                                                                     \n",
       "195                                                                     \n",
       "196                                                                     \n",
       "\n",
       "    Campaign 6 Campaign 7 Campaign 8 Campaign 9 Campaign 10 Campaign 11  \\\n",
       "0                                                                         \n",
       "1                                                                         \n",
       "2                                                                         \n",
       "3                                                                         \n",
       "4                                                                         \n",
       "..         ...        ...        ...        ...         ...         ...   \n",
       "192                                                                       \n",
       "193                                                                       \n",
       "194                                                                       \n",
       "195                                                                       \n",
       "196                                                                       \n",
       "\n",
       "    Campaign 12 Campaign 13 Campaign 14 Campaign 15  \n",
       "0                                                    \n",
       "1                                                    \n",
       "2                                                    \n",
       "3                                                    \n",
       "4                                                    \n",
       "..          ...         ...         ...         ...  \n",
       "192                                                  \n",
       "193                                                  \n",
       "194                                                  \n",
       "195                                                  \n",
       "196                                                  \n",
       "\n",
       "[197 rows x 16 columns]"
      ]
     },
     "execution_count": 89,
     "metadata": {},
     "output_type": "execute_result"
    }
   ],
   "source": [
    "bestK2lc"
   ]
  },
  {
   "cell_type": "code",
   "execution_count": 92,
   "id": "7d761f35-8a9e-4fb6-a3a2-3e1b5c5d0bd3",
   "metadata": {},
   "outputs": [],
   "source": [
    "for curepic, row in zip(id_table['epic_id'],range(bestK2lc.shape[0])):\n",
    "    if pd.isna(curepic):\n",
    "        continue\n",
    "    for col in range(bestK2lc.shape[1]): #remember that col is the campaign number we're considering here\n",
    "        bestcurve=''\n",
    "        #find EVEREST LC data\n",
    "        for index2, row2 in epicdf.iterrows():\n",
    "            if re.sub(r'^\\D+', '', row2['target_name'])==curepic and row2['campaign']==col:\n",
    "                bestcurve='EPIC'+'-'+curepic+'-'+str(col)+'-'+row2['provenance_name']+'-'+str(row2['exptime'])\n",
    "        bestK2lc.iat[row,col]=bestcurve"
   ]
  },
  {
   "cell_type": "code",
   "execution_count": 98,
   "id": "2a9ef099-f00b-4c4b-ada0-a8e1103433c2",
   "metadata": {},
   "outputs": [],
   "source": [
    "bestK2lc.to_csv('bestK2lc.csv')"
   ]
  },
  {
   "cell_type": "code",
   "execution_count": null,
   "id": "6075f248-7c4b-49bb-9563-20ee0a203747",
   "metadata": {},
   "outputs": [],
   "source": []
  }
 ],
 "metadata": {
  "kernelspec": {
   "display_name": "Python [conda env:bdnyc]",
   "language": "python",
   "name": "conda-env-bdnyc-py"
  },
  "language_info": {
   "codemirror_mode": {
    "name": "ipython",
    "version": 3
   },
   "file_extension": ".py",
   "mimetype": "text/x-python",
   "name": "python",
   "nbconvert_exporter": "python",
   "pygments_lexer": "ipython3",
   "version": "3.12.7"
  }
 },
 "nbformat": 4,
 "nbformat_minor": 5
}
