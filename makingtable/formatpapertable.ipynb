{
 "cells": [
  {
   "cell_type": "code",
   "execution_count": 1,
   "id": "215214ae-d8de-4c9d-a3a6-19eb44e4def5",
   "metadata": {},
   "outputs": [],
   "source": [
    "import numpy as np\n",
    "import pandas as pd"
   ]
  },
  {
   "cell_type": "code",
   "execution_count": 2,
   "id": "df45a5b6-d535-436f-be04-e0356f2deb04",
   "metadata": {},
   "outputs": [],
   "source": [
    "dtypes={'pop_id':'string','TIC':'string','gaiadr3_source_id':'string','epic_id':'string'}"
   ]
  },
  {
   "cell_type": "code",
   "execution_count": 3,
   "id": "52b1d193-f39d-4139-a21b-add3720255b8",
   "metadata": {},
   "outputs": [],
   "source": [
    "df=pd.read_csv('Full_complex_sarah - Objects and References.csv',dtype=dtypes)"
   ]
  },
  {
   "cell_type": "code",
   "execution_count": 4,
   "id": "01e368a5-b260-4ec7-acf1-869ff9b5d8f7",
   "metadata": {},
   "outputs": [],
   "source": [
    "idtable=df[['pop_id','TIC','gaiadr3_source_id','epic_id','per']]"
   ]
  },
  {
   "cell_type": "code",
   "execution_count": 5,
   "id": "88f7bd37-0c2d-4ece-ab97-6a26258d943d",
   "metadata": {},
   "outputs": [],
   "source": [
    "papertable=df.drop(columns=['pop_id','TIC','gaiadr3_source_id','epic_id','per'])"
   ]
  },
  {
   "cell_type": "code",
   "execution_count": 6,
   "id": "6e0665cf-e7bc-48b9-b273-c753092ecdfa",
   "metadata": {},
   "outputs": [
    {
     "name": "stderr",
     "output_type": "stream",
     "text": [
      "/var/folders/zd/14hqhh8n6v122yj77t47nyv40000gn/T/ipykernel_96627/2757942557.py:1: SettingWithCopyWarning: \n",
      "A value is trying to be set on a copy of a slice from a DataFrame.\n",
      "Try using .loc[row_indexer,col_indexer] = value instead\n",
      "\n",
      "See the caveats in the documentation: https://pandas.pydata.org/pandas-docs/stable/user_guide/indexing.html#returning-a-view-versus-a-copy\n",
      "  idtable['disco_paper']=\"\"\n"
     ]
    }
   ],
   "source": [
    "idtable['disco_paper']=\"\""
   ]
  },
  {
   "cell_type": "code",
   "execution_count": 7,
   "id": "f2f9977c-afa7-4fd8-9176-f8cf05848077",
   "metadata": {},
   "outputs": [],
   "source": [
    "for index, idrow in idtable.iterrows():\n",
    "    paperrow=papertable.loc[index]\n",
    "    for papercol in papertable.columns:\n",
    "        value=paperrow[papercol]\n",
    "        if value=='First CR determination':\n",
    "            idtable.at[index,'disco_paper']=papercol"
   ]
  },
  {
   "cell_type": "code",
   "execution_count": 8,
   "id": "a1a0f4e9-18b5-47b5-a9dd-eea12b1d2168",
   "metadata": {},
   "outputs": [
    {
     "data": {
      "text/html": [
       "<div>\n",
       "<style scoped>\n",
       "    .dataframe tbody tr th:only-of-type {\n",
       "        vertical-align: middle;\n",
       "    }\n",
       "\n",
       "    .dataframe tbody tr th {\n",
       "        vertical-align: top;\n",
       "    }\n",
       "\n",
       "    .dataframe thead th {\n",
       "        text-align: right;\n",
       "    }\n",
       "</style>\n",
       "<table border=\"1\" class=\"dataframe\">\n",
       "  <thead>\n",
       "    <tr style=\"text-align: right;\">\n",
       "      <th></th>\n",
       "      <th>pop_id</th>\n",
       "      <th>TIC</th>\n",
       "      <th>gaiadr3_source_id</th>\n",
       "      <th>epic_id</th>\n",
       "      <th>per</th>\n",
       "      <th>disco_paper</th>\n",
       "    </tr>\n",
       "  </thead>\n",
       "  <tbody>\n",
       "    <tr>\n",
       "      <th>0</th>\n",
       "      <td>0</td>\n",
       "      <td>59129133</td>\n",
       "      <td>3392549449695395968</td>\n",
       "      <td>246676629</td>\n",
       "      <td>0.6253</td>\n",
       "      <td>Stauffer_2018</td>\n",
       "    </tr>\n",
       "    <tr>\n",
       "      <th>1</th>\n",
       "      <td>1</td>\n",
       "      <td>59091144</td>\n",
       "      <td>3392553852037339776</td>\n",
       "      <td>246682490</td>\n",
       "      <td>3.6324</td>\n",
       "      <td>Stauffer_2018</td>\n",
       "    </tr>\n",
       "    <tr>\n",
       "      <th>2</th>\n",
       "      <td>2</td>\n",
       "      <td>118769116</td>\n",
       "      <td>3411342134934571520</td>\n",
       "      <td>247343526</td>\n",
       "      <td>0.3568</td>\n",
       "      <td>Stauffer_2018</td>\n",
       "    </tr>\n",
       "    <tr>\n",
       "      <th>3</th>\n",
       "      <td>3</td>\n",
       "      <td>175594111</td>\n",
       "      <td>6045818685674325760</td>\n",
       "      <td>203354381</td>\n",
       "      <td>0.5993</td>\n",
       "      <td>Stauffer_2018</td>\n",
       "    </tr>\n",
       "    <tr>\n",
       "      <th>4</th>\n",
       "      <td>4</td>\n",
       "      <td>322928171</td>\n",
       "      <td>6048612514663537280</td>\n",
       "      <td>203636498</td>\n",
       "      <td>0.7794</td>\n",
       "      <td>Stauffer_2018</td>\n",
       "    </tr>\n",
       "    <tr>\n",
       "      <th>...</th>\n",
       "      <td>...</td>\n",
       "      <td>...</td>\n",
       "      <td>...</td>\n",
       "      <td>...</td>\n",
       "      <td>...</td>\n",
       "      <td>...</td>\n",
       "    </tr>\n",
       "    <tr>\n",
       "      <th>192</th>\n",
       "      <td>192</td>\n",
       "      <td>245792696</td>\n",
       "      <td>3312903580454386048</td>\n",
       "      <td>210554781</td>\n",
       "      <td>11.4675</td>\n",
       "      <td>Rebull_2020</td>\n",
       "    </tr>\n",
       "    <tr>\n",
       "      <th>193</th>\n",
       "      <td>193</td>\n",
       "      <td>268510346</td>\n",
       "      <td>147940663906992512</td>\n",
       "      <td>247888948</td>\n",
       "      <td>1.4853</td>\n",
       "      <td>Rebull_2020</td>\n",
       "    </tr>\n",
       "    <tr>\n",
       "      <th>194</th>\n",
       "      <td>194</td>\n",
       "      <td>245869001</td>\n",
       "      <td>3313384651152556416</td>\n",
       "      <td>246932950</td>\n",
       "      <td>2.6815</td>\n",
       "      <td>Rebull_2020</td>\n",
       "    </tr>\n",
       "    <tr>\n",
       "      <th>195</th>\n",
       "      <td>195</td>\n",
       "      <td>60005364</td>\n",
       "      <td>147182172683187712</td>\n",
       "      <td>247857331</td>\n",
       "      <td>7.4762</td>\n",
       "      <td>Rebull_2020</td>\n",
       "    </tr>\n",
       "    <tr>\n",
       "      <th>196</th>\n",
       "      <td>196</td>\n",
       "      <td>&lt;NA&gt;</td>\n",
       "      <td>3308598064718584448</td>\n",
       "      <td>246650193</td>\n",
       "      <td>2.9245</td>\n",
       "      <td>Rebull_2020</td>\n",
       "    </tr>\n",
       "  </tbody>\n",
       "</table>\n",
       "<p>197 rows × 6 columns</p>\n",
       "</div>"
      ],
      "text/plain": [
       "    pop_id        TIC    gaiadr3_source_id    epic_id      per    disco_paper\n",
       "0        0   59129133  3392549449695395968  246676629   0.6253  Stauffer_2018\n",
       "1        1   59091144  3392553852037339776  246682490   3.6324  Stauffer_2018\n",
       "2        2  118769116  3411342134934571520  247343526   0.3568  Stauffer_2018\n",
       "3        3  175594111  6045818685674325760  203354381   0.5993  Stauffer_2018\n",
       "4        4  322928171  6048612514663537280  203636498   0.7794  Stauffer_2018\n",
       "..     ...        ...                  ...        ...      ...            ...\n",
       "192    192  245792696  3312903580454386048  210554781  11.4675    Rebull_2020\n",
       "193    193  268510346   147940663906992512  247888948   1.4853    Rebull_2020\n",
       "194    194  245869001  3313384651152556416  246932950   2.6815    Rebull_2020\n",
       "195    195   60005364   147182172683187712  247857331   7.4762    Rebull_2020\n",
       "196    196       <NA>  3308598064718584448  246650193   2.9245    Rebull_2020\n",
       "\n",
       "[197 rows x 6 columns]"
      ]
     },
     "execution_count": 8,
     "metadata": {},
     "output_type": "execute_result"
    }
   ],
   "source": [
    "idtable"
   ]
  },
  {
   "cell_type": "code",
   "execution_count": 9,
   "id": "c2614fdc-4599-453b-837c-eac9ffdf44a8",
   "metadata": {},
   "outputs": [
    {
     "name": "stderr",
     "output_type": "stream",
     "text": [
      "/var/folders/zd/14hqhh8n6v122yj77t47nyv40000gn/T/ipykernel_96627/274077772.py:1: SettingWithCopyWarning: \n",
      "A value is trying to be set on a copy of a slice from a DataFrame.\n",
      "Try using .loc[row_indexer,col_indexer] = value instead\n",
      "\n",
      "See the caveats in the documentation: https://pandas.pydata.org/pandas-docs/stable/user_guide/indexing.html#returning-a-view-versus-a-copy\n",
      "  idtable[['author', 'year']] = idtable['disco_paper'].str.split('_', expand=True)\n",
      "/var/folders/zd/14hqhh8n6v122yj77t47nyv40000gn/T/ipykernel_96627/274077772.py:1: SettingWithCopyWarning: \n",
      "A value is trying to be set on a copy of a slice from a DataFrame.\n",
      "Try using .loc[row_indexer,col_indexer] = value instead\n",
      "\n",
      "See the caveats in the documentation: https://pandas.pydata.org/pandas-docs/stable/user_guide/indexing.html#returning-a-view-versus-a-copy\n",
      "  idtable[['author', 'year']] = idtable['disco_paper'].str.split('_', expand=True)\n"
     ]
    }
   ],
   "source": [
    "idtable[['author', 'year']] = idtable['disco_paper'].str.split('_', expand=True)"
   ]
  },
  {
   "cell_type": "code",
   "execution_count": 10,
   "id": "70afbdd7-c325-4ab8-9683-5c7eae1e3f0d",
   "metadata": {},
   "outputs": [],
   "source": [
    "idtable.to_csv('idswithdiscopaper.csv', index=False)"
   ]
  },
  {
   "cell_type": "code",
   "execution_count": 11,
   "id": "57cca7ce-a254-4ec8-9fd3-0f41517425c2",
   "metadata": {},
   "outputs": [],
   "source": [
    "gaiaonly=idtable[idtable['gaiadr3_source_id']!='']"
   ]
  },
  {
   "cell_type": "code",
   "execution_count": 12,
   "id": "68cfdd5d-c51a-408d-afa0-a5e257b7605a",
   "metadata": {},
   "outputs": [],
   "source": [
    "gaiaonly.to_csv('ourgaiaids.csv', index=False)"
   ]
  },
  {
   "cell_type": "code",
   "execution_count": null,
   "id": "3acd9480-a566-4645-a447-01bbc7bd09ba",
   "metadata": {},
   "outputs": [],
   "source": []
  }
 ],
 "metadata": {
  "kernelspec": {
   "display_name": "Python [conda env:bdnyc]",
   "language": "python",
   "name": "conda-env-bdnyc-py"
  },
  "language_info": {
   "codemirror_mode": {
    "name": "ipython",
    "version": 3
   },
   "file_extension": ".py",
   "mimetype": "text/x-python",
   "name": "python",
   "nbconvert_exporter": "python",
   "pygments_lexer": "ipython3",
   "version": "3.12.7"
  }
 },
 "nbformat": 4,
 "nbformat_minor": 5
}
