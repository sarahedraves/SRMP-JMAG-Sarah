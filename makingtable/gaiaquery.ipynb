{
 "cells": [
  {
   "cell_type": "code",
   "execution_count": 1,
   "id": "87fab0f9-aa39-463d-b5c4-e403735a58ff",
   "metadata": {},
   "outputs": [],
   "source": [
    "from astroquery.gaia import Gaia"
   ]
  },
  {
   "cell_type": "code",
   "execution_count": null,
   "id": "fde6498d-215a-49b8-97a0-4f4b098649d7",
   "metadata": {},
   "outputs": [],
   "source": [
    "query = select source_id,\n",
    "\tra, dec, parallax, ruwe,\n",
    "\tphot_g_mean_mag,\n",
    "\tphot_bp_mean_mag,\n",
    "\tphot_rp_mean_mag,\n",
    "\tbp_rp, bp_g, g_rp\n",
    "from gaiadr3.gaia_source\n",
    "\twhere source_id in ('5969505470595968000', '6019068396739406848')"
   ]
  },
  {
   "cell_type": "code",
   "execution_count": null,
   "id": "3a3a4493-0fd7-4fa9-a52b-887f52fcee15",
   "metadata": {},
   "outputs": [],
   "source": [
    "SELECT us.*,\n",
    "\tgaia.ra, gaia.dec, gaia.parallax, gaia.ruwe,\n",
    "\tgaia.phot_g_mean_mag,\n",
    "\tgaia.phot_bp_mean_mag,\n",
    "\tgaia.phot_rp_mean_mag,\n",
    "\tgaia.bp_rp, gaia.bp_g, gaia.g_rp\n",
    "FROM user_sdraves.\"IDtable\" as us\n",
    "left join gaiadr3.gaia_source as gaia\n",
    "on us.gaiadr3_source_id=gaia.source_id"
   ]
  },
  {
   "cell_type": "code",
   "execution_count": null,
   "id": "220587e2-0ecf-4c0b-b7eb-1a93d19013ca",
   "metadata": {},
   "outputs": [],
   "source": [
    "job = Gaia.launch_job(query)"
   ]
  },
  {
   "cell_type": "code",
   "execution_count": null,
   "id": "98a67fc4-7c90-45b0-8792-c5a337ee0a9d",
   "metadata": {},
   "outputs": [],
   "source": [
    "result=job.get_results()"
   ]
  },
  {
   "cell_type": "code",
   "execution_count": null,
   "id": "f5296688-d89a-41b8-ae88-5fb0587f4b8b",
   "metadata": {},
   "outputs": [],
   "source": [
    "result"
   ]
  }
 ],
 "metadata": {
  "kernelspec": {
   "display_name": "Python [conda env:bdnyc]",
   "language": "python",
   "name": "conda-env-bdnyc-py"
  },
  "language_info": {
   "codemirror_mode": {
    "name": "ipython",
    "version": 3
   },
   "file_extension": ".py",
   "mimetype": "text/x-python",
   "name": "python",
   "nbconvert_exporter": "python",
   "pygments_lexer": "ipython3",
   "version": "3.12.7"
  }
 },
 "nbformat": 4,
 "nbformat_minor": 5
}
