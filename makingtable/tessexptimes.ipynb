{
 "cells": [
  {
   "cell_type": "code",
   "execution_count": 1,
   "id": "acbf06d5-9c57-43f6-82bc-5d4d677d6b10",
   "metadata": {},
   "outputs": [],
   "source": [
    "import numpy as np\n",
    "import pandas as pd\n",
    "import lightkurve as lk "
   ]
  },
  {
   "cell_type": "code",
   "execution_count": 2,
   "id": "06f350f2-aef4-4b9b-b56d-255f9866da46",
   "metadata": {},
   "outputs": [],
   "source": [
    "#result=lk.search_tesscut(str('TIC 452345586')).table.to_pandas()"
   ]
  },
  {
   "cell_type": "code",
   "execution_count": 3,
   "id": "2f83e41f-52c0-4248-852d-91b6932a72e7",
   "metadata": {},
   "outputs": [],
   "source": [
    "#resultsmall=result[['sequence_number','exptime']]"
   ]
  },
  {
   "cell_type": "code",
   "execution_count": 4,
   "id": "d218e8e3-f044-4161-9482-fd69957153cf",
   "metadata": {},
   "outputs": [],
   "source": [
    "#resultsmall"
   ]
  },
  {
   "cell_type": "code",
   "execution_count": 5,
   "id": "40ff6567-d70b-4c9c-82f2-ef58216c1dc5",
   "metadata": {},
   "outputs": [],
   "source": [
    "#tic_ids=np.array(['452345586','92574021'])"
   ]
  },
  {
   "cell_type": "code",
   "execution_count": 6,
   "id": "e0245505-838b-4502-bc03-a3879c2ee927",
   "metadata": {},
   "outputs": [],
   "source": [
    "#tic_ids"
   ]
  },
  {
   "cell_type": "code",
   "execution_count": 7,
   "id": "178daae7-7d16-439e-a76c-18b1448cc939",
   "metadata": {},
   "outputs": [],
   "source": [
    "#tic_names=np.array([\"TIC \"+ID for ID in tic_ids])"
   ]
  },
  {
   "cell_type": "code",
   "execution_count": 8,
   "id": "564f8fb9-6ffa-437d-a97c-69a4363349e8",
   "metadata": {},
   "outputs": [],
   "source": [
    "#tic_names"
   ]
  },
  {
   "cell_type": "code",
   "execution_count": 9,
   "id": "2544f567-79e1-49bd-b60a-b47d757bc8ce",
   "metadata": {},
   "outputs": [],
   "source": [
    "#obs_time=np.zeros((tic_names.size,100))"
   ]
  },
  {
   "cell_type": "code",
   "execution_count": 10,
   "id": "ec974d0c-4361-4fde-a4f9-e6f21321df65",
   "metadata": {},
   "outputs": [],
   "source": [
    "#obs_time.shape"
   ]
  },
  {
   "cell_type": "code",
   "execution_count": 11,
   "id": "f9ec1909-cb52-4e69-b380-e04fe8bf5ee5",
   "metadata": {},
   "outputs": [],
   "source": [
    "def getexptime(result,sector):\n",
    "    time=result.query('sequence_number=='+str(sector))['exptime']\n",
    "    if time.size==0:\n",
    "        return 0\n",
    "    else:\n",
    "        return time.iloc[0]"
   ]
  },
  {
   "cell_type": "code",
   "execution_count": 12,
   "id": "7ab17286-da70-4f42-800e-6ea768ee5574",
   "metadata": {},
   "outputs": [],
   "source": [
    "#getexptime(result,10)"
   ]
  },
  {
   "cell_type": "code",
   "execution_count": 13,
   "id": "d4011ef9-538e-4bd4-a1dd-dae515bfdce1",
   "metadata": {},
   "outputs": [],
   "source": [
    "# for pop_id in range(obs_time.shape[0]):\n",
    "#     name=tic_names[pop_id]\n",
    "#     result=lk.search_tesscut(name).table.to_pandas()\n",
    "#     for sector in range(obs_time.shape[1]):\n",
    "#         obs_time[pop_id,sector]=getexptime(result,sector)"
   ]
  },
  {
   "cell_type": "code",
   "execution_count": 14,
   "id": "3c8afdb4-ce47-4429-987c-003b827b873c",
   "metadata": {},
   "outputs": [],
   "source": [
    "#obs_time"
   ]
  },
  {
   "cell_type": "code",
   "execution_count": 15,
   "id": "1de39617-33b2-4b4d-9c02-0d13b755b972",
   "metadata": {},
   "outputs": [],
   "source": [
    "def get_times(tic_ids):\n",
    "    tic_names=np.array([\"TIC \"+ID for ID in tic_ids])\n",
    "    obs_time=np.zeros((tic_names.size,100))\n",
    "    for pop_id in range(obs_time.shape[0]):\n",
    "        name=tic_names[pop_id]\n",
    "        try:\n",
    "            result=lk.search_tesscut(name).table.to_pandas()\n",
    "            for sector in range(obs_time.shape[1]):\n",
    "                obs_time[pop_id,sector]=getexptime(result,sector)\n",
    "        except:\n",
    "            print(\"No information for \"+name)\n",
    "    return obs_time"
   ]
  },
  {
   "cell_type": "code",
   "execution_count": 16,
   "id": "99716f8a-bc75-4f96-bd78-ee9a05856347",
   "metadata": {},
   "outputs": [],
   "source": [
    "#times=get_times(tic_ids)"
   ]
  },
  {
   "cell_type": "code",
   "execution_count": 17,
   "id": "90fb7b6b-96d4-4889-9672-46b40d090028",
   "metadata": {},
   "outputs": [],
   "source": [
    "#times==obs_time"
   ]
  },
  {
   "cell_type": "code",
   "execution_count": 18,
   "id": "86eb547f-b80c-426a-afe6-dc24174a3bd2",
   "metadata": {},
   "outputs": [],
   "source": [
    "id_table=pd.read_csv('Full_complex_sarah - Objects and References.csv')"
   ]
  },
  {
   "cell_type": "code",
   "execution_count": 19,
   "id": "ec54d7d2-ef7f-4191-933b-c9c423848f60",
   "metadata": {},
   "outputs": [
    {
     "name": "stderr",
     "output_type": "stream",
     "text": [
      "/var/folders/zd/14hqhh8n6v122yj77t47nyv40000gn/T/ipykernel_20946/3311929763.py:1: RuntimeWarning: invalid value encountered in cast\n",
      "  tic_ids=id_table['TIC'].values.astype(int).astype(str)\n"
     ]
    }
   ],
   "source": [
    "tic_ids=id_table['TIC'].values.astype(int).astype(str)"
   ]
  },
  {
   "cell_type": "code",
   "execution_count": 20,
   "id": "53d12d45-5df2-4218-a553-4ffafb36af41",
   "metadata": {},
   "outputs": [],
   "source": [
    "#times=get_times(tic_ids)"
   ]
  },
  {
   "cell_type": "code",
   "execution_count": 21,
   "id": "f6c28246-9ac9-49ea-815b-2d0a13eccace",
   "metadata": {},
   "outputs": [],
   "source": [
    "#np.savetxt(\"tesstimes.csv\", times, delimiter=\",\", fmt=\"%.2f\")"
   ]
  },
  {
   "cell_type": "code",
   "execution_count": 22,
   "id": "f0758f1a-4262-487f-aac0-b556b82fadbb",
   "metadata": {},
   "outputs": [],
   "source": [
    "#get_times(np.array([\"59129133\"])) #checking that the first column is for sector 0"
   ]
  },
  {
   "cell_type": "code",
   "execution_count": 23,
   "id": "ddb5dd89-dc85-45ae-9da7-dd8ef6863dd4",
   "metadata": {},
   "outputs": [],
   "source": [
    "#lk.search_tesscut(\"TIC 59129133\").table.to_pandas()"
   ]
  },
  {
   "cell_type": "code",
   "execution_count": 24,
   "id": "3cfa406b-694a-4817-a6ca-85f07d48164e",
   "metadata": {},
   "outputs": [],
   "source": [
    "#just for two more found IDs\n",
    "tic_ids=np.array([245869001, 60005364]).astype(str)\n",
    "times=get_times(tic_ids)\n",
    "np.savetxt(\"tesstimes2.csv\", times, delimiter=\",\", fmt=\"%.2f\")"
   ]
  },
  {
   "cell_type": "code",
   "execution_count": null,
   "id": "9a07a368-dbae-45a6-bcfa-a7d2de1c476a",
   "metadata": {},
   "outputs": [],
   "source": []
  }
 ],
 "metadata": {
  "kernelspec": {
   "display_name": "Python [conda env:bdnyc]",
   "language": "python",
   "name": "conda-env-bdnyc-py"
  },
  "language_info": {
   "codemirror_mode": {
    "name": "ipython",
    "version": 3
   },
   "file_extension": ".py",
   "mimetype": "text/x-python",
   "name": "python",
   "nbconvert_exporter": "python",
   "pygments_lexer": "ipython3",
   "version": "3.12.7"
  }
 },
 "nbformat": 4,
 "nbformat_minor": 5
}
