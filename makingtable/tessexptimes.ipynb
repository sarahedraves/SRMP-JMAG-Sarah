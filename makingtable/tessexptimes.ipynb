{
 "cells": [
  {
   "cell_type": "code",
   "execution_count": 2,
   "id": "acbf06d5-9c57-43f6-82bc-5d4d677d6b10",
   "metadata": {},
   "outputs": [],
   "source": [
    "import numpy as np\n",
    "import pandas as pd\n",
    "import lightkurve as lk "
   ]
  },
  {
   "cell_type": "code",
   "execution_count": 2,
   "id": "06f350f2-aef4-4b9b-b56d-255f9866da46",
   "metadata": {},
   "outputs": [],
   "source": [
    "#result=lk.search_tesscut(str('TIC 452345586')).table.to_pandas()"
   ]
  },
  {
   "cell_type": "code",
   "execution_count": 3,
   "id": "2f83e41f-52c0-4248-852d-91b6932a72e7",
   "metadata": {},
   "outputs": [],
   "source": [
    "#resultsmall=result[['sequence_number','exptime']]"
   ]
  },
  {
   "cell_type": "code",
   "execution_count": 4,
   "id": "d218e8e3-f044-4161-9482-fd69957153cf",
   "metadata": {},
   "outputs": [],
   "source": [
    "#resultsmall"
   ]
  },
  {
   "cell_type": "code",
   "execution_count": 5,
   "id": "40ff6567-d70b-4c9c-82f2-ef58216c1dc5",
   "metadata": {},
   "outputs": [],
   "source": [
    "#tic_ids=np.array(['452345586','92574021'])"
   ]
  },
  {
   "cell_type": "code",
   "execution_count": 6,
   "id": "e0245505-838b-4502-bc03-a3879c2ee927",
   "metadata": {},
   "outputs": [],
   "source": [
    "#tic_ids"
   ]
  },
  {
   "cell_type": "code",
   "execution_count": 7,
   "id": "178daae7-7d16-439e-a76c-18b1448cc939",
   "metadata": {},
   "outputs": [],
   "source": [
    "#tic_names=np.array([\"TIC \"+ID for ID in tic_ids])"
   ]
  },
  {
   "cell_type": "code",
   "execution_count": 8,
   "id": "564f8fb9-6ffa-437d-a97c-69a4363349e8",
   "metadata": {},
   "outputs": [],
   "source": [
    "#tic_names"
   ]
  },
  {
   "cell_type": "code",
   "execution_count": 9,
   "id": "2544f567-79e1-49bd-b60a-b47d757bc8ce",
   "metadata": {},
   "outputs": [],
   "source": [
    "#obs_time=np.zeros((tic_names.size,100))"
   ]
  },
  {
   "cell_type": "code",
   "execution_count": 10,
   "id": "ec974d0c-4361-4fde-a4f9-e6f21321df65",
   "metadata": {},
   "outputs": [],
   "source": [
    "#obs_time.shape"
   ]
  },
  {
   "cell_type": "code",
   "execution_count": 11,
   "id": "f9ec1909-cb52-4e69-b380-e04fe8bf5ee5",
   "metadata": {},
   "outputs": [],
   "source": [
    "def getexptime(result,sector):\n",
    "    time=result.query('sequence_number=='+str(sector))['exptime']\n",
    "    if time.size==0:\n",
    "        return 0\n",
    "    else:\n",
    "        return time.iloc[0]"
   ]
  },
  {
   "cell_type": "code",
   "execution_count": 12,
   "id": "7ab17286-da70-4f42-800e-6ea768ee5574",
   "metadata": {},
   "outputs": [],
   "source": [
    "#getexptime(result,10)"
   ]
  },
  {
   "cell_type": "code",
   "execution_count": 13,
   "id": "d4011ef9-538e-4bd4-a1dd-dae515bfdce1",
   "metadata": {},
   "outputs": [],
   "source": [
    "# for pop_id in range(obs_time.shape[0]):\n",
    "#     name=tic_names[pop_id]\n",
    "#     result=lk.search_tesscut(name).table.to_pandas()\n",
    "#     for sector in range(obs_time.shape[1]):\n",
    "#         obs_time[pop_id,sector]=getexptime(result,sector)"
   ]
  },
  {
   "cell_type": "code",
   "execution_count": 14,
   "id": "3c8afdb4-ce47-4429-987c-003b827b873c",
   "metadata": {},
   "outputs": [],
   "source": [
    "#obs_time"
   ]
  },
  {
   "cell_type": "code",
   "execution_count": 15,
   "id": "1de39617-33b2-4b4d-9c02-0d13b755b972",
   "metadata": {},
   "outputs": [],
   "source": [
    "def get_times(tic_ids):\n",
    "    tic_names=np.array([\"TIC \"+ID for ID in tic_ids])\n",
    "    obs_time=np.zeros((tic_names.size,100))\n",
    "    for pop_id in range(obs_time.shape[0]):\n",
    "        name=tic_names[pop_id]\n",
    "        try:\n",
    "            result=lk.search_tesscut(name).table.to_pandas()\n",
    "            for sector in range(obs_time.shape[1]):\n",
    "                obs_time[pop_id,sector]=getexptime(result,sector)\n",
    "        except:\n",
    "            print(\"No information for \"+name)\n",
    "    return obs_time"
   ]
  },
  {
   "cell_type": "code",
   "execution_count": 16,
   "id": "99716f8a-bc75-4f96-bd78-ee9a05856347",
   "metadata": {},
   "outputs": [],
   "source": [
    "#times=get_times(tic_ids)"
   ]
  },
  {
   "cell_type": "code",
   "execution_count": 17,
   "id": "90fb7b6b-96d4-4889-9672-46b40d090028",
   "metadata": {},
   "outputs": [],
   "source": [
    "#times==obs_time"
   ]
  },
  {
   "cell_type": "code",
   "execution_count": 18,
   "id": "86eb547f-b80c-426a-afe6-dc24174a3bd2",
   "metadata": {},
   "outputs": [],
   "source": [
    "id_table=pd.read_csv('Full_complex_sarah - Objects and References.csv')"
   ]
  },
  {
   "cell_type": "code",
   "execution_count": 19,
   "id": "ec54d7d2-ef7f-4191-933b-c9c423848f60",
   "metadata": {},
   "outputs": [
    {
     "name": "stderr",
     "output_type": "stream",
     "text": [
      "/var/folders/zd/14hqhh8n6v122yj77t47nyv40000gn/T/ipykernel_93023/3311929763.py:1: RuntimeWarning: invalid value encountered in cast\n",
      "  tic_ids=id_table['TIC'].values.astype(int).astype(str)\n"
     ]
    }
   ],
   "source": [
    "tic_ids=id_table['TIC'].values.astype(int).astype(str)"
   ]
  },
  {
   "cell_type": "code",
   "execution_count": 20,
   "id": "53d12d45-5df2-4218-a553-4ffafb36af41",
   "metadata": {},
   "outputs": [],
   "source": [
    "#times=get_times(tic_ids)"
   ]
  },
  {
   "cell_type": "code",
   "execution_count": 21,
   "id": "f6c28246-9ac9-49ea-815b-2d0a13eccace",
   "metadata": {},
   "outputs": [],
   "source": [
    "#np.savetxt(\"tesstimes.csv\", times, delimiter=\",\", fmt=\"%.2f\")"
   ]
  },
  {
   "cell_type": "code",
   "execution_count": 22,
   "id": "f0758f1a-4262-487f-aac0-b556b82fadbb",
   "metadata": {},
   "outputs": [],
   "source": [
    "#get_times(np.array([\"59129133\"])) #checking that the first column is for sector 0"
   ]
  },
  {
   "cell_type": "code",
   "execution_count": 23,
   "id": "ddb5dd89-dc85-45ae-9da7-dd8ef6863dd4",
   "metadata": {},
   "outputs": [],
   "source": [
    "#lk.search_tesscut(\"TIC 59129133\").table.to_pandas()"
   ]
  },
  {
   "cell_type": "code",
   "execution_count": 24,
   "id": "3cfa406b-694a-4817-a6ca-85f07d48164e",
   "metadata": {},
   "outputs": [],
   "source": [
    "#just for two more found IDs\n",
    "tic_ids=np.array([245869001, 60005364]).astype(str)\n",
    "times=get_times(tic_ids)\n",
    "np.savetxt(\"tesstimes2.csv\", times, delimiter=\",\", fmt=\"%.2f\")"
   ]
  },
  {
   "cell_type": "code",
   "execution_count": 16,
   "id": "af8e6d64-a2c7-4a95-8eed-4588623ec425",
   "metadata": {},
   "outputs": [],
   "source": [
    "result = lk.search_lightcurve(\"EPIC 203821589\")"
   ]
  },
  {
   "cell_type": "code",
   "execution_count": 18,
   "id": "c6a1fb3f-92c6-4073-ad36-11f50fbbe837",
   "metadata": {},
   "outputs": [
    {
     "data": {
      "text/html": [
       "SearchResult containing 4 data products.\n",
       "\n",
       "<table id=\"table5911893472\">\n",
       "<thead><tr><th>#</th><th>mission</th><th>year</th><th>author</th><th>exptime</th><th>target_name</th><th>distance</th></tr></thead>\n",
       "<thead><tr><th></th><th></th><th></th><th></th><th>s</th><th></th><th>arcsec</th></tr></thead>\n",
       "<tr><td>0</td><td>K2 Campaign 02</td><td>2014</td><td><a href='https://archive.stsci.edu/k2/data_products.html'>K2</a></td><td>1800</td><td>ktwo203821589</td><td>0.0</td></tr>\n",
       "<tr><td>1</td><td>K2 Campaign 02</td><td>2014</td><td><a href='https://archive.stsci.edu/hlsp/everest'>EVEREST</a></td><td>1800</td><td>ktwo203821589</td><td>0.0</td></tr>\n",
       "<tr><td>2</td><td>K2 Campaign 02</td><td>2014</td><td><a href='https://archive.stsci.edu/hlsp/k2sff'>K2SFF</a></td><td>1800</td><td>ktwo203821589</td><td>0.0</td></tr>\n",
       "<tr><td>3</td><td>K2 Campaign 02</td><td>2014</td><td>K2VARCAT</td><td>1800</td><td>ktwo203821589</td><td>0.0</td></tr>\n",
       "</table>"
      ],
      "text/plain": [
       "SearchResult containing 4 data products.\n",
       "\n",
       " #     mission     year  author  exptime  target_name  distance\n",
       "                                    s                   arcsec \n",
       "--- -------------- ---- -------- ------- ------------- --------\n",
       "  0 K2 Campaign 02 2014       K2    1800 ktwo203821589      0.0\n",
       "  1 K2 Campaign 02 2014  EVEREST    1800 ktwo203821589      0.0\n",
       "  2 K2 Campaign 02 2014    K2SFF    1800 ktwo203821589      0.0\n",
       "  3 K2 Campaign 02 2014 K2VARCAT    1800 ktwo203821589      0.0"
      ]
     },
     "execution_count": 18,
     "metadata": {},
     "output_type": "execute_result"
    }
   ],
   "source": [
    "result"
   ]
  },
  {
   "cell_type": "code",
   "execution_count": 20,
   "id": "68b70e0a-e42d-4312-a30c-e136cfcb44f2",
   "metadata": {},
   "outputs": [
    {
     "name": "stderr",
     "output_type": "stream",
     "text": [
      "Warning: 33% (1255/3856) of the cadences will be ignored due to the quality mask (quality_bitmask=1130799).\n"
     ]
    }
   ],
   "source": [
    "lc70=result[1].download()"
   ]
  },
  {
   "cell_type": "code",
   "execution_count": 24,
   "id": "e106336e-8f13-43a6-8b74-da4a6d637d36",
   "metadata": {},
   "outputs": [
    {
     "data": {
      "text/plain": [
       "<Axes: xlabel='Time - 2454833 [BKJD days]', ylabel='Flux [$\\\\mathrm{e^{-}\\\\,s^{-1}}$]'>"
      ]
     },
     "execution_count": 24,
     "metadata": {},
     "output_type": "execute_result"
    }
   ],
   "source": [
    "lc70.plot()"
   ]
  },
  {
   "cell_type": "code",
   "execution_count": 26,
   "id": "aead340e-a881-43ff-a35c-7a4fd82930fd",
   "metadata": {},
   "outputs": [
    {
     "data": {
      "text/html": [
       "<div><i>KeplerLightCurve length=2601 LABEL=&quot;EPIC 203821589&quot; CAMPAIGN=2 AUTHOR=EVEREST FLUX_ORIGIN=flux</i>\n",
       "<table id=\"table5912740880\" class=\"table-striped table-bordered table-condensed\">\n",
       "<thead><tr><th>time</th><th>flux</th><th>flux_err</th><th>cadn</th><th>fraw</th><th>cadenceno</th><th>fraw_err</th><th>quality</th><th>fcor</th><th>cbv01</th><th>cbv02</th><th>cbv03</th><th>cbv04</th><th>cbv05</th><th>cbv06</th><th>bkg</th></tr></thead>\n",
       "<thead><tr><th></th><th>electron / s</th><th>electron / s</th><th></th><th>electron / s</th><th></th><th>electron / s</th><th></th><th>electron / s</th><th></th><th></th><th></th><th></th><th></th><th></th><th>electron / s</th></tr></thead>\n",
       "<thead><tr><th>Time</th><th>float64</th><th>float64</th><th>float64</th><th>float64</th><th>float64</th><th>float64</th><th>int32</th><th>float64</th><th>float64</th><th>float64</th><th>float64</th><th>float64</th><th>float64</th><th>float64</th><th>float64</th></tr></thead>\n",
       "<tr><td>2060.304687378215</td><td>5702.035832286812</td><td>nan</td><td>95498.0</td><td>10793.318359375</td><td>95498.0</td><td>7.289381795192273</td><td>4194304</td><td>5422.227022338494</td><td>1.0</td><td>-3.1057334785247788</td><td>2.2439971827260834</td><td>-1.7468573079323955</td><td>1.361606272032147</td><td>-30.583185794756858</td><td>474.18603515625</td></tr>\n",
       "<tr><td>2060.3251196031197</td><td>5708.0738912587985</td><td>nan</td><td>95499.0</td><td>10801.850708007812</td><td>95499.0</td><td>7.2890535464905355</td><td>4194304</td><td>5428.289816466543</td><td>1.0</td><td>-3.10515514452449</td><td>2.240281962440464</td><td>-1.7467827582306534</td><td>1.3568060651612537</td><td>-30.381792167168207</td><td>473.7526550292969</td></tr>\n",
       "<tr><td>2060.3455517275506</td><td>5732.33059179876</td><td>nan</td><td>95500.0</td><td>10829.763397216797</td><td>95500.0</td><td>7.290412931980192</td><td>4194304</td><td>5452.571587845191</td><td>1.0</td><td>-3.1045689619109442</td><td>2.236560836709997</td><td>-1.74667536180023</td><td>1.3519921389973637</td><td>-30.180981311963308</td><td>473.14630126953125</td></tr>\n",
       "<tr><td>2060.3659840519904</td><td>5726.204957797192</td><td>nan</td><td>95501.0</td><td>10823.640533447266</td><td>95501.0</td><td>7.29148141656149</td><td>4194304</td><td>5446.4713599754605</td><td>1.0</td><td>-3.103974939790396</td><td>2.2328338254768743</td><td>-1.746535200458963</td><td>1.3471645621729988</td><td>-29.980752608534328</td><td>473.8587341308594</td></tr>\n",
       "<tr><td>2060.386416275491</td><td>5687.3320372970775</td><td>nan</td><td>95502.0</td><td>10786.577880859375</td><td>95502.0</td><td>7.289483323838583</td><td>4194304</td><td>5407.624180510863</td><td>1.0</td><td>-3.103373087269101</td><td>2.2291009486832856</td><td>-1.7463623560246897</td><td>1.3423234033206815</td><td>-29.78110543627344</td><td>473.86785888671875</td></tr>\n",
       "<tr><td>2060.406848498533</td><td>5659.525655562989</td><td>nan</td><td>95503.0</td><td>10758.845001220703</td><td>95503.0</td><td>7.288456616857923</td><td>4194304</td><td>5379.843874326499</td><td>1.0</td><td>-3.1027634134533133</td><td>2.225362226271422</td><td>-1.7461569103152486</td><td>1.3374687310729336</td><td>-29.58203917457281</td><td>474.05987548828125</td></tr>\n",
       "<tr><td>2060.427280721109</td><td>5663.423717574216</td><td>nan</td><td>95504.0</td><td>10763.493072509766</td><td>95504.0</td><td>7.2885213107733575</td><td>4194304</td><td>5383.768346012187</td><td>1.0</td><td>-3.1021459274492873</td><td>2.2216176781834753</td><td>-1.7459189451484773</td><td>1.3326006140622773</td><td>-29.383553202824608</td><td>473.96923828125</td></tr>\n",
       "<tr><td>2060.44771294322</td><td>5744.29519865755</td><td>nan</td><td>95505.0</td><td>10846.008178710938</td><td>95505.0</td><td>7.290478976455267</td><td>4194304</td><td>5464.666570505245</td><td>1.0</td><td>-3.101520638363278</td><td>2.217867324361636</td><td>-1.7456485423422137</td><td>1.327719120921235</td><td>-29.185646900421002</td><td>473.2125244140625</td></tr>\n",
       "<tr><td>2060.4681451648576</td><td>5692.781159539707</td><td>nan</td><td>95506.0</td><td>10797.23861694336</td><td>95506.0</td><td>7.290662729093796</td><td>4194304</td><td>5413.179608142921</td><td>1.0</td><td>-3.1008875553015405</td><td>2.214111184748094</td><td>-1.7453457837142954</td><td>1.3228243202823282</td><td>-28.988319646754164</td><td>474.63848876953125</td></tr>\n",
       "<tr><td>...</td><td>...</td><td>...</td><td>...</td><td>...</td><td>...</td><td>...</td><td>...</td><td>...</td><td>...</td><td>...</td><td>...</td><td>...</td><td>...</td><td>...</td><td>...</td></tr>\n",
       "<tr><td>2134.860228826532</td><td>11551.929617260583</td><td>nan</td><td>99147.0</td><td>11805.302551269531</td><td>99147.0</td><td>8.09294777159673</td><td>0</td><td>11955.555037483562</td><td>1.0</td><td>2.8248764638822355</td><td>1.0830465403211356</td><td>-0.9037281117767441</td><td>-0.24582349505314616</td><td>1.0606656267813577</td><td>881.7869873046875</td></tr>\n",
       "<tr><td>2135.3505916782306</td><td>11412.22289280314</td><td>nan</td><td>99171.0</td><td>11676.875122070312</td><td>99171.0</td><td>8.106977017948044</td><td>0</td><td>11821.510229199139</td><td>1.0</td><td>2.9075370605037314</td><td>1.1964682311907306</td><td>-1.0277922978005893</td><td>0.18676097687257842</td><td>-0.14065792989859105</td><td>891.5864868164062</td></tr>\n",
       "<tr><td>2135.8409547948977</td><td>11548.0827462757</td><td>nan</td><td>99195.0</td><td>11798.308532714844</td><td>99195.0</td><td>8.132242958898171</td><td>0</td><td>11962.973249163322</td><td>1.0</td><td>2.989339946843506</td><td>1.3093275220108367</td><td>-1.1420169872887849</td><td>0.6551772870784958</td><td>-1.4903666916281608</td><td>903.0169067382812</td></tr>\n",
       "<tr><td>2136.331318079785</td><td>11353.700502370484</td><td>nan</td><td>99219.0</td><td>11644.778747558594</td><td>99219.0</td><td>8.138138721586058</td><td>0</td><td>11774.135794386315</td><td>1.0</td><td>3.070290558521985</td><td>1.4213284284564611</td><td>-1.245175840062156</td><td>1.1598052191803339</td><td>-2.9930756029993386</td><td>910.5712890625</td></tr>\n",
       "<tr><td>2136.821681436035</td><td>11456.080037743784</td><td>nan</td><td>99243.0</td><td>11710.076110839844</td><td>99243.0</td><td>8.157815718710799</td><td>0</td><td>11882.002113842409</td><td>1.0</td><td>3.150394331159597</td><td>1.5321749662026092</td><td>-1.3360425159415357</td><td>1.7010245567938138</td><td>-4.653399608604097</td><td>920.898193359375</td></tr>\n",
       "<tr><td>2137.312044966675</td><td>11578.705233727582</td><td>nan</td><td>99267.0</td><td>11849.718200683594</td><td>99267.0</td><td>8.183648135034458</td><td>0</td><td>12010.056461181568</td><td>1.0</td><td>3.2296567003767667</td><td>1.6415711509242892</td><td>-1.4133906747477494</td><td>2.2792150835346496</td><td>-6.475953653034426</td><td>932.0826416015625</td></tr>\n",
       "<tr><td>2137.8024086749647</td><td>11353.761403025128</td><td>nan</td><td>99291.0</td><td>11602.613159179688</td><td>99291.0</td><td>8.191980749059105</td><td>0</td><td>11790.484521425038</td><td>1.0</td><td>3.3080831017939225</td><td>1.7492209982965072</td><td>-1.4759939763016279</td><td>2.8947565830185646</td><td>-8.465352680882297</td><td>943.052490234375</td></tr>\n",
       "<tr><td>2138.2927725640475</td><td>11465.98747611884</td><td>nan</td><td>99315.0</td><td>11703.518920898438</td><td>99315.0</td><td>8.211691206598669</td><td>0</td><td>11908.025597373224</td><td>1.0</td><td>3.3856789710314903</td><td>1.8548285239942686</td><td>-1.522626080423997</td><td>3.5480288388612786</td><td>-10.626211636739693</td><td>952.3048706054688</td></tr>\n",
       "<tr><td>2138.78313673706</td><td>11347.377548662014</td><td>nan</td><td>99339.0</td><td>11631.110229492188</td><td>99339.0</td><td>8.226340384595522</td><td>0</td><td>11794.674156997415</td><td>1.0</td><td>3.4624497437098976</td><td>1.958097743692581</td><td>-1.5520606469356877</td><td>4.239411634678513</td><td>-12.963145465198586</td><td>962.1992797851562</td></tr>\n",
       "</table></div>"
      ],
      "text/plain": [
       "<KeplerLightCurve length=2601 LABEL=\"EPIC 203821589\" CAMPAIGN=2 AUTHOR=EVEREST FLUX_ORIGIN=flux>\n",
       "       time               flux        ...        bkg        \n",
       "                      electron / s    ...    electron / s   \n",
       "       Time             float64       ...      float64      \n",
       "------------------ ------------------ ... ------------------\n",
       " 2060.304687378215  5702.035832286812 ...    474.18603515625\n",
       "2060.3251196031197 5708.0738912587985 ...  473.7526550292969\n",
       "2060.3455517275506   5732.33059179876 ... 473.14630126953125\n",
       "2060.3659840519904  5726.204957797192 ...  473.8587341308594\n",
       " 2060.386416275491 5687.3320372970775 ... 473.86785888671875\n",
       " 2060.406848498533  5659.525655562989 ... 474.05987548828125\n",
       " 2060.427280721109  5663.423717574216 ...    473.96923828125\n",
       "  2060.44771294322   5744.29519865755 ...  473.2125244140625\n",
       "2060.4681451648576  5692.781159539707 ... 474.63848876953125\n",
       "               ...                ... ...                ...\n",
       " 2134.860228826532 11551.929617260583 ...  881.7869873046875\n",
       "2135.3505916782306  11412.22289280314 ...  891.5864868164062\n",
       "2135.8409547948977   11548.0827462757 ...  903.0169067382812\n",
       " 2136.331318079785 11353.700502370484 ...     910.5712890625\n",
       " 2136.821681436035 11456.080037743784 ...   920.898193359375\n",
       " 2137.312044966675 11578.705233727582 ...  932.0826416015625\n",
       "2137.8024086749647 11353.761403025128 ...   943.052490234375\n",
       "2138.2927725640475  11465.98747611884 ...  952.3048706054688\n",
       "  2138.78313673706 11347.377548662014 ...  962.1992797851562"
      ]
     },
     "execution_count": 26,
     "metadata": {},
     "output_type": "execute_result"
    }
   ],
   "source": [
    "lc70"
   ]
  },
  {
   "cell_type": "code",
   "execution_count": null,
   "id": "28426765-18db-43a3-a537-8156726101e6",
   "metadata": {},
   "outputs": [],
   "source": []
  }
 ],
 "metadata": {
  "kernelspec": {
   "display_name": "Python [conda env:bdnyc]",
   "language": "python",
   "name": "conda-env-bdnyc-py"
  },
  "language_info": {
   "codemirror_mode": {
    "name": "ipython",
    "version": 3
   },
   "file_extension": ".py",
   "mimetype": "text/x-python",
   "name": "python",
   "nbconvert_exporter": "python",
   "pygments_lexer": "ipython3",
   "version": "3.12.7"
  }
 },
 "nbformat": 4,
 "nbformat_minor": 5
}
