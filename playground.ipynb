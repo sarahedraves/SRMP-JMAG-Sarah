{
 "cells": [
  {
   "cell_type": "markdown",
   "id": "803a89ea-4eb2-40b3-9c64-21242b4b9c75",
   "metadata": {},
   "source": [
    "Don't use this notebook! It's just storing a header that can be copy and pasted to a new notebook that needs pipeline functions"
   ]
  },
  {
   "cell_type": "code",
   "execution_count": 1,
   "id": "a862d9b1-99c8-4510-86f4-b9a72aed81df",
   "metadata": {},
   "outputs": [],
   "source": [
    "import os\n",
    "import uuid\n",
    "import shutil\n",
    "#import pylatex\n",
    "import pandas as pd\n",
    "import lightkurve as lk \n",
    "import matplotlib.pyplot as plt\n",
    "\n",
    "from datetime import datetime\n",
    "from tqdm.notebook import tqdm\n",
    "from multiprocessing import cpu_count, Pool\n",
    "#from pylatex.section import Chapter, Subsection\n",
    "#from pylatex import Document, Section, Figure, NoEscape, Command\n",
    "\n",
    "plt.ioff()\n",
    "%run pipeline.ipynb"
   ]
  },
  {
   "cell_type": "code",
   "execution_count": null,
   "id": "9aee9cd1-e064-41a7-89d1-581bcf0af9af",
   "metadata": {},
   "outputs": [],
   "source": []
  }
 ],
 "metadata": {
  "kernelspec": {
   "display_name": "Python [conda env:bdnyc]",
   "language": "python",
   "name": "conda-env-bdnyc-py"
  },
  "language_info": {
   "codemirror_mode": {
    "name": "ipython",
    "version": 3
   },
   "file_extension": ".py",
   "mimetype": "text/x-python",
   "name": "python",
   "nbconvert_exporter": "python",
   "pygments_lexer": "ipython3",
   "version": "3.12.7"
  }
 },
 "nbformat": 4,
 "nbformat_minor": 5
}
